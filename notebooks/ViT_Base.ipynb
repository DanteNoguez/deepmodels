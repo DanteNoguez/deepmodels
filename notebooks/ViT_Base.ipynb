{
  "nbformat": 4,
  "nbformat_minor": 0,
  "metadata": {
    "colab": {
      "provenance": [],
      "machine_shape": "hm",
      "authorship_tag": "ABX9TyNX0HfILU9EwEaQo9DEI0v8",
      "include_colab_link": true
    },
    "kernelspec": {
      "name": "python3",
      "display_name": "Python 3"
    },
    "language_info": {
      "name": "python"
    },
    "accelerator": "GPU",
    "gpuClass": "standard",
    "widgets": {
      "application/vnd.jupyter.widget-state+json": {
        "08859ce0a87441e48e3cc2cc1a4d2acc": {
          "model_module": "@jupyter-widgets/controls",
          "model_name": "HBoxModel",
          "model_module_version": "1.5.0",
          "state": {
            "_dom_classes": [],
            "_model_module": "@jupyter-widgets/controls",
            "_model_module_version": "1.5.0",
            "_model_name": "HBoxModel",
            "_view_count": null,
            "_view_module": "@jupyter-widgets/controls",
            "_view_module_version": "1.5.0",
            "_view_name": "HBoxView",
            "box_style": "",
            "children": [
              "IPY_MODEL_6494949aa2014c56bb96b5273ee65657",
              "IPY_MODEL_ea2b596a69634fbd8d17719de8e9ea91",
              "IPY_MODEL_708ce696112c4a5e99ecbbc397309fa3"
            ],
            "layout": "IPY_MODEL_1d65259a0f7a4ff5b81007d3fe4634e7"
          }
        },
        "6494949aa2014c56bb96b5273ee65657": {
          "model_module": "@jupyter-widgets/controls",
          "model_name": "HTMLModel",
          "model_module_version": "1.5.0",
          "state": {
            "_dom_classes": [],
            "_model_module": "@jupyter-widgets/controls",
            "_model_module_version": "1.5.0",
            "_model_name": "HTMLModel",
            "_view_count": null,
            "_view_module": "@jupyter-widgets/controls",
            "_view_module_version": "1.5.0",
            "_view_name": "HTMLView",
            "description": "",
            "description_tooltip": null,
            "layout": "IPY_MODEL_feb10ab2873741de854ca40cb28ee04c",
            "placeholder": "​",
            "style": "IPY_MODEL_6f2d9441d8514c648f32b4cd99f0b146",
            "value": "100%"
          }
        },
        "ea2b596a69634fbd8d17719de8e9ea91": {
          "model_module": "@jupyter-widgets/controls",
          "model_name": "FloatProgressModel",
          "model_module_version": "1.5.0",
          "state": {
            "_dom_classes": [],
            "_model_module": "@jupyter-widgets/controls",
            "_model_module_version": "1.5.0",
            "_model_name": "FloatProgressModel",
            "_view_count": null,
            "_view_module": "@jupyter-widgets/controls",
            "_view_module_version": "1.5.0",
            "_view_name": "ProgressView",
            "bar_style": "success",
            "description": "",
            "description_tooltip": null,
            "layout": "IPY_MODEL_026e049ee06840fba01075528364852c",
            "max": 10,
            "min": 0,
            "orientation": "horizontal",
            "style": "IPY_MODEL_75d5dfc877c6495ab4f1f3de87c6aaf1",
            "value": 10
          }
        },
        "708ce696112c4a5e99ecbbc397309fa3": {
          "model_module": "@jupyter-widgets/controls",
          "model_name": "HTMLModel",
          "model_module_version": "1.5.0",
          "state": {
            "_dom_classes": [],
            "_model_module": "@jupyter-widgets/controls",
            "_model_module_version": "1.5.0",
            "_model_name": "HTMLModel",
            "_view_count": null,
            "_view_module": "@jupyter-widgets/controls",
            "_view_module_version": "1.5.0",
            "_view_name": "HTMLView",
            "description": "",
            "description_tooltip": null,
            "layout": "IPY_MODEL_ca9f4a826d814ad1a68912f85771a915",
            "placeholder": "​",
            "style": "IPY_MODEL_fdf7897129c0483cbcd647319bd59f8a",
            "value": " 10/10 [00:58&lt;00:00,  5.75s/it]"
          }
        },
        "1d65259a0f7a4ff5b81007d3fe4634e7": {
          "model_module": "@jupyter-widgets/base",
          "model_name": "LayoutModel",
          "model_module_version": "1.2.0",
          "state": {
            "_model_module": "@jupyter-widgets/base",
            "_model_module_version": "1.2.0",
            "_model_name": "LayoutModel",
            "_view_count": null,
            "_view_module": "@jupyter-widgets/base",
            "_view_module_version": "1.2.0",
            "_view_name": "LayoutView",
            "align_content": null,
            "align_items": null,
            "align_self": null,
            "border": null,
            "bottom": null,
            "display": null,
            "flex": null,
            "flex_flow": null,
            "grid_area": null,
            "grid_auto_columns": null,
            "grid_auto_flow": null,
            "grid_auto_rows": null,
            "grid_column": null,
            "grid_gap": null,
            "grid_row": null,
            "grid_template_areas": null,
            "grid_template_columns": null,
            "grid_template_rows": null,
            "height": null,
            "justify_content": null,
            "justify_items": null,
            "left": null,
            "margin": null,
            "max_height": null,
            "max_width": null,
            "min_height": null,
            "min_width": null,
            "object_fit": null,
            "object_position": null,
            "order": null,
            "overflow": null,
            "overflow_x": null,
            "overflow_y": null,
            "padding": null,
            "right": null,
            "top": null,
            "visibility": null,
            "width": null
          }
        },
        "feb10ab2873741de854ca40cb28ee04c": {
          "model_module": "@jupyter-widgets/base",
          "model_name": "LayoutModel",
          "model_module_version": "1.2.0",
          "state": {
            "_model_module": "@jupyter-widgets/base",
            "_model_module_version": "1.2.0",
            "_model_name": "LayoutModel",
            "_view_count": null,
            "_view_module": "@jupyter-widgets/base",
            "_view_module_version": "1.2.0",
            "_view_name": "LayoutView",
            "align_content": null,
            "align_items": null,
            "align_self": null,
            "border": null,
            "bottom": null,
            "display": null,
            "flex": null,
            "flex_flow": null,
            "grid_area": null,
            "grid_auto_columns": null,
            "grid_auto_flow": null,
            "grid_auto_rows": null,
            "grid_column": null,
            "grid_gap": null,
            "grid_row": null,
            "grid_template_areas": null,
            "grid_template_columns": null,
            "grid_template_rows": null,
            "height": null,
            "justify_content": null,
            "justify_items": null,
            "left": null,
            "margin": null,
            "max_height": null,
            "max_width": null,
            "min_height": null,
            "min_width": null,
            "object_fit": null,
            "object_position": null,
            "order": null,
            "overflow": null,
            "overflow_x": null,
            "overflow_y": null,
            "padding": null,
            "right": null,
            "top": null,
            "visibility": null,
            "width": null
          }
        },
        "6f2d9441d8514c648f32b4cd99f0b146": {
          "model_module": "@jupyter-widgets/controls",
          "model_name": "DescriptionStyleModel",
          "model_module_version": "1.5.0",
          "state": {
            "_model_module": "@jupyter-widgets/controls",
            "_model_module_version": "1.5.0",
            "_model_name": "DescriptionStyleModel",
            "_view_count": null,
            "_view_module": "@jupyter-widgets/base",
            "_view_module_version": "1.2.0",
            "_view_name": "StyleView",
            "description_width": ""
          }
        },
        "026e049ee06840fba01075528364852c": {
          "model_module": "@jupyter-widgets/base",
          "model_name": "LayoutModel",
          "model_module_version": "1.2.0",
          "state": {
            "_model_module": "@jupyter-widgets/base",
            "_model_module_version": "1.2.0",
            "_model_name": "LayoutModel",
            "_view_count": null,
            "_view_module": "@jupyter-widgets/base",
            "_view_module_version": "1.2.0",
            "_view_name": "LayoutView",
            "align_content": null,
            "align_items": null,
            "align_self": null,
            "border": null,
            "bottom": null,
            "display": null,
            "flex": null,
            "flex_flow": null,
            "grid_area": null,
            "grid_auto_columns": null,
            "grid_auto_flow": null,
            "grid_auto_rows": null,
            "grid_column": null,
            "grid_gap": null,
            "grid_row": null,
            "grid_template_areas": null,
            "grid_template_columns": null,
            "grid_template_rows": null,
            "height": null,
            "justify_content": null,
            "justify_items": null,
            "left": null,
            "margin": null,
            "max_height": null,
            "max_width": null,
            "min_height": null,
            "min_width": null,
            "object_fit": null,
            "object_position": null,
            "order": null,
            "overflow": null,
            "overflow_x": null,
            "overflow_y": null,
            "padding": null,
            "right": null,
            "top": null,
            "visibility": null,
            "width": null
          }
        },
        "75d5dfc877c6495ab4f1f3de87c6aaf1": {
          "model_module": "@jupyter-widgets/controls",
          "model_name": "ProgressStyleModel",
          "model_module_version": "1.5.0",
          "state": {
            "_model_module": "@jupyter-widgets/controls",
            "_model_module_version": "1.5.0",
            "_model_name": "ProgressStyleModel",
            "_view_count": null,
            "_view_module": "@jupyter-widgets/base",
            "_view_module_version": "1.2.0",
            "_view_name": "StyleView",
            "bar_color": null,
            "description_width": ""
          }
        },
        "ca9f4a826d814ad1a68912f85771a915": {
          "model_module": "@jupyter-widgets/base",
          "model_name": "LayoutModel",
          "model_module_version": "1.2.0",
          "state": {
            "_model_module": "@jupyter-widgets/base",
            "_model_module_version": "1.2.0",
            "_model_name": "LayoutModel",
            "_view_count": null,
            "_view_module": "@jupyter-widgets/base",
            "_view_module_version": "1.2.0",
            "_view_name": "LayoutView",
            "align_content": null,
            "align_items": null,
            "align_self": null,
            "border": null,
            "bottom": null,
            "display": null,
            "flex": null,
            "flex_flow": null,
            "grid_area": null,
            "grid_auto_columns": null,
            "grid_auto_flow": null,
            "grid_auto_rows": null,
            "grid_column": null,
            "grid_gap": null,
            "grid_row": null,
            "grid_template_areas": null,
            "grid_template_columns": null,
            "grid_template_rows": null,
            "height": null,
            "justify_content": null,
            "justify_items": null,
            "left": null,
            "margin": null,
            "max_height": null,
            "max_width": null,
            "min_height": null,
            "min_width": null,
            "object_fit": null,
            "object_position": null,
            "order": null,
            "overflow": null,
            "overflow_x": null,
            "overflow_y": null,
            "padding": null,
            "right": null,
            "top": null,
            "visibility": null,
            "width": null
          }
        },
        "fdf7897129c0483cbcd647319bd59f8a": {
          "model_module": "@jupyter-widgets/controls",
          "model_name": "DescriptionStyleModel",
          "model_module_version": "1.5.0",
          "state": {
            "_model_module": "@jupyter-widgets/controls",
            "_model_module_version": "1.5.0",
            "_model_name": "DescriptionStyleModel",
            "_view_count": null,
            "_view_module": "@jupyter-widgets/base",
            "_view_module_version": "1.2.0",
            "_view_name": "StyleView",
            "description_width": ""
          }
        },
        "a412ad0edd574bf98e06fce9ccf5cdcd": {
          "model_module": "@jupyter-widgets/controls",
          "model_name": "HBoxModel",
          "model_module_version": "1.5.0",
          "state": {
            "_dom_classes": [],
            "_model_module": "@jupyter-widgets/controls",
            "_model_module_version": "1.5.0",
            "_model_name": "HBoxModel",
            "_view_count": null,
            "_view_module": "@jupyter-widgets/controls",
            "_view_module_version": "1.5.0",
            "_view_name": "HBoxView",
            "box_style": "",
            "children": [
              "IPY_MODEL_eadd730bd8824951a405c604677fe6db",
              "IPY_MODEL_5dafb08da84148989cb675dea97f3a00",
              "IPY_MODEL_4c75e515c4014e349ec5a85647836d95"
            ],
            "layout": "IPY_MODEL_a1fe7fc9b4a74266b925e8f7f6b9947a"
          }
        },
        "eadd730bd8824951a405c604677fe6db": {
          "model_module": "@jupyter-widgets/controls",
          "model_name": "HTMLModel",
          "model_module_version": "1.5.0",
          "state": {
            "_dom_classes": [],
            "_model_module": "@jupyter-widgets/controls",
            "_model_module_version": "1.5.0",
            "_model_name": "HTMLModel",
            "_view_count": null,
            "_view_module": "@jupyter-widgets/controls",
            "_view_module_version": "1.5.0",
            "_view_name": "HTMLView",
            "description": "",
            "description_tooltip": null,
            "layout": "IPY_MODEL_634dc4f1958947ecb5318b2c72d0d1f5",
            "placeholder": "​",
            "style": "IPY_MODEL_f67f9e5d12f249a7b7bc78a437a04f2d",
            "value": "100%"
          }
        },
        "5dafb08da84148989cb675dea97f3a00": {
          "model_module": "@jupyter-widgets/controls",
          "model_name": "FloatProgressModel",
          "model_module_version": "1.5.0",
          "state": {
            "_dom_classes": [],
            "_model_module": "@jupyter-widgets/controls",
            "_model_module_version": "1.5.0",
            "_model_name": "FloatProgressModel",
            "_view_count": null,
            "_view_module": "@jupyter-widgets/controls",
            "_view_module_version": "1.5.0",
            "_view_name": "ProgressView",
            "bar_style": "success",
            "description": "",
            "description_tooltip": null,
            "layout": "IPY_MODEL_d25ed4a0da8f48e8bb32d572236c2580",
            "max": 346328529,
            "min": 0,
            "orientation": "horizontal",
            "style": "IPY_MODEL_8b98826b01704a8b8d17bd0746f6ca1d",
            "value": 346328529
          }
        },
        "4c75e515c4014e349ec5a85647836d95": {
          "model_module": "@jupyter-widgets/controls",
          "model_name": "HTMLModel",
          "model_module_version": "1.5.0",
          "state": {
            "_dom_classes": [],
            "_model_module": "@jupyter-widgets/controls",
            "_model_module_version": "1.5.0",
            "_model_name": "HTMLModel",
            "_view_count": null,
            "_view_module": "@jupyter-widgets/controls",
            "_view_module_version": "1.5.0",
            "_view_name": "HTMLView",
            "description": "",
            "description_tooltip": null,
            "layout": "IPY_MODEL_892240c5e80747328a0a8b7f0f51c5c4",
            "placeholder": "​",
            "style": "IPY_MODEL_087b74934a5b43869d90a46e7b28a9bf",
            "value": " 330M/330M [00:01&lt;00:00, 296MB/s]"
          }
        },
        "a1fe7fc9b4a74266b925e8f7f6b9947a": {
          "model_module": "@jupyter-widgets/base",
          "model_name": "LayoutModel",
          "model_module_version": "1.2.0",
          "state": {
            "_model_module": "@jupyter-widgets/base",
            "_model_module_version": "1.2.0",
            "_model_name": "LayoutModel",
            "_view_count": null,
            "_view_module": "@jupyter-widgets/base",
            "_view_module_version": "1.2.0",
            "_view_name": "LayoutView",
            "align_content": null,
            "align_items": null,
            "align_self": null,
            "border": null,
            "bottom": null,
            "display": null,
            "flex": null,
            "flex_flow": null,
            "grid_area": null,
            "grid_auto_columns": null,
            "grid_auto_flow": null,
            "grid_auto_rows": null,
            "grid_column": null,
            "grid_gap": null,
            "grid_row": null,
            "grid_template_areas": null,
            "grid_template_columns": null,
            "grid_template_rows": null,
            "height": null,
            "justify_content": null,
            "justify_items": null,
            "left": null,
            "margin": null,
            "max_height": null,
            "max_width": null,
            "min_height": null,
            "min_width": null,
            "object_fit": null,
            "object_position": null,
            "order": null,
            "overflow": null,
            "overflow_x": null,
            "overflow_y": null,
            "padding": null,
            "right": null,
            "top": null,
            "visibility": null,
            "width": null
          }
        },
        "634dc4f1958947ecb5318b2c72d0d1f5": {
          "model_module": "@jupyter-widgets/base",
          "model_name": "LayoutModel",
          "model_module_version": "1.2.0",
          "state": {
            "_model_module": "@jupyter-widgets/base",
            "_model_module_version": "1.2.0",
            "_model_name": "LayoutModel",
            "_view_count": null,
            "_view_module": "@jupyter-widgets/base",
            "_view_module_version": "1.2.0",
            "_view_name": "LayoutView",
            "align_content": null,
            "align_items": null,
            "align_self": null,
            "border": null,
            "bottom": null,
            "display": null,
            "flex": null,
            "flex_flow": null,
            "grid_area": null,
            "grid_auto_columns": null,
            "grid_auto_flow": null,
            "grid_auto_rows": null,
            "grid_column": null,
            "grid_gap": null,
            "grid_row": null,
            "grid_template_areas": null,
            "grid_template_columns": null,
            "grid_template_rows": null,
            "height": null,
            "justify_content": null,
            "justify_items": null,
            "left": null,
            "margin": null,
            "max_height": null,
            "max_width": null,
            "min_height": null,
            "min_width": null,
            "object_fit": null,
            "object_position": null,
            "order": null,
            "overflow": null,
            "overflow_x": null,
            "overflow_y": null,
            "padding": null,
            "right": null,
            "top": null,
            "visibility": null,
            "width": null
          }
        },
        "f67f9e5d12f249a7b7bc78a437a04f2d": {
          "model_module": "@jupyter-widgets/controls",
          "model_name": "DescriptionStyleModel",
          "model_module_version": "1.5.0",
          "state": {
            "_model_module": "@jupyter-widgets/controls",
            "_model_module_version": "1.5.0",
            "_model_name": "DescriptionStyleModel",
            "_view_count": null,
            "_view_module": "@jupyter-widgets/base",
            "_view_module_version": "1.2.0",
            "_view_name": "StyleView",
            "description_width": ""
          }
        },
        "d25ed4a0da8f48e8bb32d572236c2580": {
          "model_module": "@jupyter-widgets/base",
          "model_name": "LayoutModel",
          "model_module_version": "1.2.0",
          "state": {
            "_model_module": "@jupyter-widgets/base",
            "_model_module_version": "1.2.0",
            "_model_name": "LayoutModel",
            "_view_count": null,
            "_view_module": "@jupyter-widgets/base",
            "_view_module_version": "1.2.0",
            "_view_name": "LayoutView",
            "align_content": null,
            "align_items": null,
            "align_self": null,
            "border": null,
            "bottom": null,
            "display": null,
            "flex": null,
            "flex_flow": null,
            "grid_area": null,
            "grid_auto_columns": null,
            "grid_auto_flow": null,
            "grid_auto_rows": null,
            "grid_column": null,
            "grid_gap": null,
            "grid_row": null,
            "grid_template_areas": null,
            "grid_template_columns": null,
            "grid_template_rows": null,
            "height": null,
            "justify_content": null,
            "justify_items": null,
            "left": null,
            "margin": null,
            "max_height": null,
            "max_width": null,
            "min_height": null,
            "min_width": null,
            "object_fit": null,
            "object_position": null,
            "order": null,
            "overflow": null,
            "overflow_x": null,
            "overflow_y": null,
            "padding": null,
            "right": null,
            "top": null,
            "visibility": null,
            "width": null
          }
        },
        "8b98826b01704a8b8d17bd0746f6ca1d": {
          "model_module": "@jupyter-widgets/controls",
          "model_name": "ProgressStyleModel",
          "model_module_version": "1.5.0",
          "state": {
            "_model_module": "@jupyter-widgets/controls",
            "_model_module_version": "1.5.0",
            "_model_name": "ProgressStyleModel",
            "_view_count": null,
            "_view_module": "@jupyter-widgets/base",
            "_view_module_version": "1.2.0",
            "_view_name": "StyleView",
            "bar_color": null,
            "description_width": ""
          }
        },
        "892240c5e80747328a0a8b7f0f51c5c4": {
          "model_module": "@jupyter-widgets/base",
          "model_name": "LayoutModel",
          "model_module_version": "1.2.0",
          "state": {
            "_model_module": "@jupyter-widgets/base",
            "_model_module_version": "1.2.0",
            "_model_name": "LayoutModel",
            "_view_count": null,
            "_view_module": "@jupyter-widgets/base",
            "_view_module_version": "1.2.0",
            "_view_name": "LayoutView",
            "align_content": null,
            "align_items": null,
            "align_self": null,
            "border": null,
            "bottom": null,
            "display": null,
            "flex": null,
            "flex_flow": null,
            "grid_area": null,
            "grid_auto_columns": null,
            "grid_auto_flow": null,
            "grid_auto_rows": null,
            "grid_column": null,
            "grid_gap": null,
            "grid_row": null,
            "grid_template_areas": null,
            "grid_template_columns": null,
            "grid_template_rows": null,
            "height": null,
            "justify_content": null,
            "justify_items": null,
            "left": null,
            "margin": null,
            "max_height": null,
            "max_width": null,
            "min_height": null,
            "min_width": null,
            "object_fit": null,
            "object_position": null,
            "order": null,
            "overflow": null,
            "overflow_x": null,
            "overflow_y": null,
            "padding": null,
            "right": null,
            "top": null,
            "visibility": null,
            "width": null
          }
        },
        "087b74934a5b43869d90a46e7b28a9bf": {
          "model_module": "@jupyter-widgets/controls",
          "model_name": "DescriptionStyleModel",
          "model_module_version": "1.5.0",
          "state": {
            "_model_module": "@jupyter-widgets/controls",
            "_model_module_version": "1.5.0",
            "_model_name": "DescriptionStyleModel",
            "_view_count": null,
            "_view_module": "@jupyter-widgets/base",
            "_view_module_version": "1.2.0",
            "_view_name": "StyleView",
            "description_width": ""
          }
        },
        "039a335a17834dddabb3014df7896813": {
          "model_module": "@jupyter-widgets/controls",
          "model_name": "HBoxModel",
          "model_module_version": "1.5.0",
          "state": {
            "_dom_classes": [],
            "_model_module": "@jupyter-widgets/controls",
            "_model_module_version": "1.5.0",
            "_model_name": "HBoxModel",
            "_view_count": null,
            "_view_module": "@jupyter-widgets/controls",
            "_view_module_version": "1.5.0",
            "_view_name": "HBoxView",
            "box_style": "",
            "children": [
              "IPY_MODEL_10d8b794cc1544238b47c281b03943ae",
              "IPY_MODEL_001e90b0e08a4957971d2b8048138556",
              "IPY_MODEL_9957bfd76bb945d7b527fee2f2e68011"
            ],
            "layout": "IPY_MODEL_c543946c048443ea8aca7be80d0405ed"
          }
        },
        "10d8b794cc1544238b47c281b03943ae": {
          "model_module": "@jupyter-widgets/controls",
          "model_name": "HTMLModel",
          "model_module_version": "1.5.0",
          "state": {
            "_dom_classes": [],
            "_model_module": "@jupyter-widgets/controls",
            "_model_module_version": "1.5.0",
            "_model_name": "HTMLModel",
            "_view_count": null,
            "_view_module": "@jupyter-widgets/controls",
            "_view_module_version": "1.5.0",
            "_view_name": "HTMLView",
            "description": "",
            "description_tooltip": null,
            "layout": "IPY_MODEL_bf9bc1b09069494db8a80537dc2d1ed3",
            "placeholder": "​",
            "style": "IPY_MODEL_ed0c7566155645c28a9342302017f67e",
            "value": "100%"
          }
        },
        "001e90b0e08a4957971d2b8048138556": {
          "model_module": "@jupyter-widgets/controls",
          "model_name": "FloatProgressModel",
          "model_module_version": "1.5.0",
          "state": {
            "_dom_classes": [],
            "_model_module": "@jupyter-widgets/controls",
            "_model_module_version": "1.5.0",
            "_model_name": "FloatProgressModel",
            "_view_count": null,
            "_view_module": "@jupyter-widgets/controls",
            "_view_module_version": "1.5.0",
            "_view_name": "ProgressView",
            "bar_style": "success",
            "description": "",
            "description_tooltip": null,
            "layout": "IPY_MODEL_3000512c48104e24abc0ff10405c3543",
            "max": 10,
            "min": 0,
            "orientation": "horizontal",
            "style": "IPY_MODEL_71a72ae787e14b7b91764cae369b0aba",
            "value": 10
          }
        },
        "9957bfd76bb945d7b527fee2f2e68011": {
          "model_module": "@jupyter-widgets/controls",
          "model_name": "HTMLModel",
          "model_module_version": "1.5.0",
          "state": {
            "_dom_classes": [],
            "_model_module": "@jupyter-widgets/controls",
            "_model_module_version": "1.5.0",
            "_model_name": "HTMLModel",
            "_view_count": null,
            "_view_module": "@jupyter-widgets/controls",
            "_view_module_version": "1.5.0",
            "_view_name": "HTMLView",
            "description": "",
            "description_tooltip": null,
            "layout": "IPY_MODEL_b908d15649db45d2b276e303eb004c9d",
            "placeholder": "​",
            "style": "IPY_MODEL_5170adc598fe410eb4d77542455f3ef7",
            "value": " 10/10 [00:29&lt;00:00,  2.95s/it]"
          }
        },
        "c543946c048443ea8aca7be80d0405ed": {
          "model_module": "@jupyter-widgets/base",
          "model_name": "LayoutModel",
          "model_module_version": "1.2.0",
          "state": {
            "_model_module": "@jupyter-widgets/base",
            "_model_module_version": "1.2.0",
            "_model_name": "LayoutModel",
            "_view_count": null,
            "_view_module": "@jupyter-widgets/base",
            "_view_module_version": "1.2.0",
            "_view_name": "LayoutView",
            "align_content": null,
            "align_items": null,
            "align_self": null,
            "border": null,
            "bottom": null,
            "display": null,
            "flex": null,
            "flex_flow": null,
            "grid_area": null,
            "grid_auto_columns": null,
            "grid_auto_flow": null,
            "grid_auto_rows": null,
            "grid_column": null,
            "grid_gap": null,
            "grid_row": null,
            "grid_template_areas": null,
            "grid_template_columns": null,
            "grid_template_rows": null,
            "height": null,
            "justify_content": null,
            "justify_items": null,
            "left": null,
            "margin": null,
            "max_height": null,
            "max_width": null,
            "min_height": null,
            "min_width": null,
            "object_fit": null,
            "object_position": null,
            "order": null,
            "overflow": null,
            "overflow_x": null,
            "overflow_y": null,
            "padding": null,
            "right": null,
            "top": null,
            "visibility": null,
            "width": null
          }
        },
        "bf9bc1b09069494db8a80537dc2d1ed3": {
          "model_module": "@jupyter-widgets/base",
          "model_name": "LayoutModel",
          "model_module_version": "1.2.0",
          "state": {
            "_model_module": "@jupyter-widgets/base",
            "_model_module_version": "1.2.0",
            "_model_name": "LayoutModel",
            "_view_count": null,
            "_view_module": "@jupyter-widgets/base",
            "_view_module_version": "1.2.0",
            "_view_name": "LayoutView",
            "align_content": null,
            "align_items": null,
            "align_self": null,
            "border": null,
            "bottom": null,
            "display": null,
            "flex": null,
            "flex_flow": null,
            "grid_area": null,
            "grid_auto_columns": null,
            "grid_auto_flow": null,
            "grid_auto_rows": null,
            "grid_column": null,
            "grid_gap": null,
            "grid_row": null,
            "grid_template_areas": null,
            "grid_template_columns": null,
            "grid_template_rows": null,
            "height": null,
            "justify_content": null,
            "justify_items": null,
            "left": null,
            "margin": null,
            "max_height": null,
            "max_width": null,
            "min_height": null,
            "min_width": null,
            "object_fit": null,
            "object_position": null,
            "order": null,
            "overflow": null,
            "overflow_x": null,
            "overflow_y": null,
            "padding": null,
            "right": null,
            "top": null,
            "visibility": null,
            "width": null
          }
        },
        "ed0c7566155645c28a9342302017f67e": {
          "model_module": "@jupyter-widgets/controls",
          "model_name": "DescriptionStyleModel",
          "model_module_version": "1.5.0",
          "state": {
            "_model_module": "@jupyter-widgets/controls",
            "_model_module_version": "1.5.0",
            "_model_name": "DescriptionStyleModel",
            "_view_count": null,
            "_view_module": "@jupyter-widgets/base",
            "_view_module_version": "1.2.0",
            "_view_name": "StyleView",
            "description_width": ""
          }
        },
        "3000512c48104e24abc0ff10405c3543": {
          "model_module": "@jupyter-widgets/base",
          "model_name": "LayoutModel",
          "model_module_version": "1.2.0",
          "state": {
            "_model_module": "@jupyter-widgets/base",
            "_model_module_version": "1.2.0",
            "_model_name": "LayoutModel",
            "_view_count": null,
            "_view_module": "@jupyter-widgets/base",
            "_view_module_version": "1.2.0",
            "_view_name": "LayoutView",
            "align_content": null,
            "align_items": null,
            "align_self": null,
            "border": null,
            "bottom": null,
            "display": null,
            "flex": null,
            "flex_flow": null,
            "grid_area": null,
            "grid_auto_columns": null,
            "grid_auto_flow": null,
            "grid_auto_rows": null,
            "grid_column": null,
            "grid_gap": null,
            "grid_row": null,
            "grid_template_areas": null,
            "grid_template_columns": null,
            "grid_template_rows": null,
            "height": null,
            "justify_content": null,
            "justify_items": null,
            "left": null,
            "margin": null,
            "max_height": null,
            "max_width": null,
            "min_height": null,
            "min_width": null,
            "object_fit": null,
            "object_position": null,
            "order": null,
            "overflow": null,
            "overflow_x": null,
            "overflow_y": null,
            "padding": null,
            "right": null,
            "top": null,
            "visibility": null,
            "width": null
          }
        },
        "71a72ae787e14b7b91764cae369b0aba": {
          "model_module": "@jupyter-widgets/controls",
          "model_name": "ProgressStyleModel",
          "model_module_version": "1.5.0",
          "state": {
            "_model_module": "@jupyter-widgets/controls",
            "_model_module_version": "1.5.0",
            "_model_name": "ProgressStyleModel",
            "_view_count": null,
            "_view_module": "@jupyter-widgets/base",
            "_view_module_version": "1.2.0",
            "_view_name": "StyleView",
            "bar_color": null,
            "description_width": ""
          }
        },
        "b908d15649db45d2b276e303eb004c9d": {
          "model_module": "@jupyter-widgets/base",
          "model_name": "LayoutModel",
          "model_module_version": "1.2.0",
          "state": {
            "_model_module": "@jupyter-widgets/base",
            "_model_module_version": "1.2.0",
            "_model_name": "LayoutModel",
            "_view_count": null,
            "_view_module": "@jupyter-widgets/base",
            "_view_module_version": "1.2.0",
            "_view_name": "LayoutView",
            "align_content": null,
            "align_items": null,
            "align_self": null,
            "border": null,
            "bottom": null,
            "display": null,
            "flex": null,
            "flex_flow": null,
            "grid_area": null,
            "grid_auto_columns": null,
            "grid_auto_flow": null,
            "grid_auto_rows": null,
            "grid_column": null,
            "grid_gap": null,
            "grid_row": null,
            "grid_template_areas": null,
            "grid_template_columns": null,
            "grid_template_rows": null,
            "height": null,
            "justify_content": null,
            "justify_items": null,
            "left": null,
            "margin": null,
            "max_height": null,
            "max_width": null,
            "min_height": null,
            "min_width": null,
            "object_fit": null,
            "object_position": null,
            "order": null,
            "overflow": null,
            "overflow_x": null,
            "overflow_y": null,
            "padding": null,
            "right": null,
            "top": null,
            "visibility": null,
            "width": null
          }
        },
        "5170adc598fe410eb4d77542455f3ef7": {
          "model_module": "@jupyter-widgets/controls",
          "model_name": "DescriptionStyleModel",
          "model_module_version": "1.5.0",
          "state": {
            "_model_module": "@jupyter-widgets/controls",
            "_model_module_version": "1.5.0",
            "_model_name": "DescriptionStyleModel",
            "_view_count": null,
            "_view_module": "@jupyter-widgets/base",
            "_view_module_version": "1.2.0",
            "_view_name": "StyleView",
            "description_width": ""
          }
        }
      }
    }
  },
  "cells": [
    {
      "cell_type": "markdown",
      "metadata": {
        "id": "view-in-github",
        "colab_type": "text"
      },
      "source": [
        "<a href=\"https://colab.research.google.com/github/DanteNoguez/modelos/blob/main/notebooks/ViT_Base.ipynb\" target=\"_parent\"><img src=\"https://colab.research.google.com/assets/colab-badge.svg\" alt=\"Open In Colab\"/></a>"
      ]
    },
    {
      "cell_type": "code",
      "execution_count": null,
      "metadata": {
        "id": "f0J2gCEkVcMX"
      },
      "outputs": [],
      "source": [
        "import torch\n",
        "import torchvision\n",
        "from torch import nn\n",
        "import matplotlib.pyplot as plt\n",
        "from torchvision import transforms\n",
        "import numpy as np\n",
        "\n",
        "try:\n",
        "    from torchinfo import summary\n",
        "except:\n",
        "    print(\"[INFO] Couldn't find torchinfo... installing it.\")\n",
        "    !pip install -q torchinfo\n",
        "    from torchinfo import summary\n",
        "\n",
        "try:\n",
        "    from going_modular.going_modular import data_setup, engine\n",
        "    from helper_functions import download_data, plot_loss_curves\n",
        "except:\n",
        "    # Get the going_modular scripts\n",
        "    print(\"[INFO] Couldn't find going_modular or helper_functions scripts... downloading them from GitHub.\")\n",
        "    !git clone https://github.com/mrdbourke/pytorch-deep-learning\n",
        "    !mv pytorch-deep-learning/going_modular .\n",
        "    !mv pytorch-deep-learning/helper_functions.py .\n",
        "    !rm -rf pytorch-deep-learning\n",
        "    from going_modular.going_modular import data_setup, engine\n",
        "    from helper_functions import download_data, set_seeds, plot_loss_curves"
      ]
    },
    {
      "cell_type": "code",
      "source": [
        "device = 'cuda' if torch.cuda.is_available() else 'cpu'"
      ],
      "metadata": {
        "id": "iao2HGJLV2pP"
      },
      "execution_count": null,
      "outputs": []
    },
    {
      "cell_type": "code",
      "source": [
        "!nvidia-smi"
      ],
      "metadata": {
        "colab": {
          "base_uri": "https://localhost:8080/"
        },
        "id": "8b_B9gnz4F63",
        "outputId": "da2bad72-f27d-4636-e2ff-4da5be1a0053"
      },
      "execution_count": null,
      "outputs": [
        {
          "output_type": "stream",
          "name": "stdout",
          "text": [
            "Tue Sep 13 17:46:32 2022       \n",
            "+-----------------------------------------------------------------------------+\n",
            "| NVIDIA-SMI 460.32.03    Driver Version: 460.32.03    CUDA Version: 11.2     |\n",
            "|-------------------------------+----------------------+----------------------+\n",
            "| GPU  Name        Persistence-M| Bus-Id        Disp.A | Volatile Uncorr. ECC |\n",
            "| Fan  Temp  Perf  Pwr:Usage/Cap|         Memory-Usage | GPU-Util  Compute M. |\n",
            "|                               |                      |               MIG M. |\n",
            "|===============================+======================+======================|\n",
            "|   0  Tesla P100-PCIE...  Off  | 00000000:00:04.0 Off |                    0 |\n",
            "| N/A   41C    P0    34W / 250W |    913MiB / 16280MiB |      0%      Default |\n",
            "|                               |                      |                  N/A |\n",
            "+-------------------------------+----------------------+----------------------+\n",
            "                                                                               \n",
            "+-----------------------------------------------------------------------------+\n",
            "| Processes:                                                                  |\n",
            "|  GPU   GI   CI        PID   Type   Process name                  GPU Memory |\n",
            "|        ID   ID                                                   Usage      |\n",
            "|=============================================================================|\n",
            "+-----------------------------------------------------------------------------+\n"
          ]
        }
      ]
    },
    {
      "cell_type": "code",
      "source": [
        "image_path = download_data(source=\"https://github.com/mrdbourke/pytorch-deep-learning/raw/main/data/pizza_steak_sushi.zip\",\n",
        "                           destination=\"pizza_steak_sushi\")\n",
        "image_path"
      ],
      "metadata": {
        "colab": {
          "base_uri": "https://localhost:8080/"
        },
        "id": "NpqcBZbhWy1d",
        "outputId": "f30853c0-90ed-49cc-894e-726bad1e170f"
      },
      "execution_count": null,
      "outputs": [
        {
          "output_type": "stream",
          "name": "stdout",
          "text": [
            "[INFO] data/pizza_steak_sushi directory exists, skipping download.\n"
          ]
        },
        {
          "output_type": "execute_result",
          "data": {
            "text/plain": [
              "PosixPath('data/pizza_steak_sushi')"
            ]
          },
          "metadata": {},
          "execution_count": 56
        }
      ]
    },
    {
      "cell_type": "code",
      "source": [
        "train_dir = image_path / \"train\"\n",
        "test_dir = image_path / \"test\""
      ],
      "metadata": {
        "id": "0Ck3ZZtyW4Jk"
      },
      "execution_count": null,
      "outputs": []
    },
    {
      "cell_type": "code",
      "source": [
        "IMG_SIZE = 224\n",
        "\n",
        "# Create transform pipeline manually\n",
        "manual_transforms = transforms.Compose([\n",
        "    transforms.Resize((IMG_SIZE, IMG_SIZE)),\n",
        "    transforms.ToTensor(),\n",
        "])           \n",
        "print(f\"Manually created transforms: {manual_transforms}\")"
      ],
      "metadata": {
        "colab": {
          "base_uri": "https://localhost:8080/"
        },
        "id": "5Qh_2mb0W6dJ",
        "outputId": "91e2cba8-e5fc-4c66-f11f-82a78da38c09"
      },
      "execution_count": null,
      "outputs": [
        {
          "output_type": "stream",
          "name": "stdout",
          "text": [
            "Manually created transforms: Compose(\n",
            "    Resize(size=(224, 224), interpolation=bilinear, max_size=None, antialias=None)\n",
            "    ToTensor()\n",
            ")\n"
          ]
        }
      ]
    },
    {
      "cell_type": "code",
      "source": [
        "BATCH_SIZE = 32 # this is lower than the ViT paper but it's because we're starting small\n",
        "\n",
        "# Create data loaders\n",
        "train_dataloader, test_dataloader, class_names = data_setup.create_dataloaders(\n",
        "    train_dir=train_dir,\n",
        "    test_dir=test_dir,\n",
        "    transform=manual_transforms, # use manually created transforms\n",
        "    batch_size=BATCH_SIZE\n",
        ")\n",
        "\n",
        "train_dataloader, test_dataloader, class_names"
      ],
      "metadata": {
        "colab": {
          "base_uri": "https://localhost:8080/"
        },
        "id": "qAdjQOMiXOpe",
        "outputId": "051a53e0-8a2e-4183-c596-93c64b01f3be"
      },
      "execution_count": null,
      "outputs": [
        {
          "output_type": "execute_result",
          "data": {
            "text/plain": [
              "(<torch.utils.data.dataloader.DataLoader at 0x7fa3dd7c4fd0>,\n",
              " <torch.utils.data.dataloader.DataLoader at 0x7fa3dd7c4ad0>,\n",
              " ['pizza', 'steak', 'sushi'])"
            ]
          },
          "metadata": {},
          "execution_count": 59
        }
      ]
    },
    {
      "cell_type": "markdown",
      "source": [
        "### Comenzamos a definir las variables del paper:\n",
        "\n",
        "$X$ = Imagen | $x \\in \\mathbb{R}^{H \\times W  \\times C}$ \\\\\n",
        "$H, W, C$ = Height, Width, Channels (colors), \\\\\n",
        "$P$ = Patches (parches, tokens, pedazos de imagen; $P, P$ es la resolución de cada parche) \\\\\n",
        "$N$ = Número de parches | $H \\times W / P^2$ \\\\"
      ],
      "metadata": {
        "id": "cqpiDOZ46Afl"
      }
    },
    {
      "cell_type": "code",
      "source": [
        "X = torch.randn(224, 224, 3) #imagen x\n",
        "\n",
        "H = 224 #height\n",
        "W = 224 #width\n",
        "C = 3 #colores\n",
        "\n",
        "P = 16 #tamaño del patch, ViT-Base/16\n",
        "\n",
        "N = (H * W / P**2) #número de patches según la fórmula N=H*W/P**2\n",
        "N"
      ],
      "metadata": {
        "colab": {
          "base_uri": "https://localhost:8080/"
        },
        "id": "2joM4Xe1XU_v",
        "outputId": "81d67e7b-862e-4fc5-d8b8-905ad2dbb043"
      },
      "execution_count": null,
      "outputs": [
        {
          "output_type": "execute_result",
          "data": {
            "text/plain": [
              "196.0"
            ]
          },
          "metadata": {},
          "execution_count": 60
        }
      ]
    },
    {
      "cell_type": "markdown",
      "source": [
        "$D$ = Dimensión de los parches | $P^2  \\cdot C$ \\\\\n",
        "$\\mathbf{x}_p$ = Dimensiones de la imagen después de ser parchada (patched) | $\\mathbf{x}_p \\in \\mathbb{R}^{N \\times (P^2  \\cdot C)}$ (*i. e.*, número de parches por dimensiones de los parches).\n"
      ],
      "metadata": {
        "id": "zuIMBT3t-4U7"
      }
    },
    {
      "cell_type": "code",
      "source": [
        "D = (P**2 * C) #dimensión de los parches después del embed\n",
        "Xp = (N, D) # nuevas dimensiones de la imagen parchada\n",
        "Xp"
      ],
      "metadata": {
        "colab": {
          "base_uri": "https://localhost:8080/"
        },
        "id": "xzkeFguEsCRt",
        "outputId": "23f39809-a5b0-4393-befa-11314b42f0fc"
      },
      "execution_count": null,
      "outputs": [
        {
          "output_type": "execute_result",
          "data": {
            "text/plain": [
              "(196.0, 768)"
            ]
          },
          "metadata": {},
          "execution_count": 61
        }
      ]
    },
    {
      "cell_type": "code",
      "source": [
        "# Verificar que las dimensiones de la imagen original \n",
        "# y la imagen parchada sean equivalentes:\n",
        "\n",
        "a = H*W*C\n",
        "b = N*D\n",
        "\n",
        "a, b"
      ],
      "metadata": {
        "colab": {
          "base_uri": "https://localhost:8080/"
        },
        "id": "lZz29X93u4Wx",
        "outputId": "859224bc-e134-49a1-c396-fa5c84d1674e"
      },
      "execution_count": null,
      "outputs": [
        {
          "output_type": "execute_result",
          "data": {
            "text/plain": [
              "(150528, 150528.0)"
            ]
          },
          "metadata": {},
          "execution_count": 62
        }
      ]
    },
    {
      "cell_type": "code",
      "source": [
        "img_size = 224\n",
        "patch_size = 16\n",
        "num_patches = img_size/patch_size \n",
        "assert img_size % patch_size == 0, \"Image size must be divisible by patch size\" \n",
        "print(f\"Number of patches per row: {num_patches}\\nPatch size: {patch_size} pixels x {patch_size} pixels\")"
      ],
      "metadata": {
        "id": "wh4zWPvlyICZ",
        "colab": {
          "base_uri": "https://localhost:8080/"
        },
        "outputId": "27a0cb5e-e510-4078-cd23-4a249926acb3"
      },
      "execution_count": null,
      "outputs": [
        {
          "output_type": "stream",
          "name": "stdout",
          "text": [
            "Number of patches per row: 14.0\n",
            "Patch size: 16 pixels x 16 pixels\n"
          ]
        }
      ]
    },
    {
      "cell_type": "code",
      "source": [
        "# Get a batch of images\n",
        "image_batch, label_batch = next(iter(train_dataloader))\n",
        "\n",
        "# Get a single image from the batch\n",
        "image, label = image_batch[1], label_batch[1]\n",
        "\n",
        "# View the batch shapes\n",
        "image.shape, label"
      ],
      "metadata": {
        "colab": {
          "base_uri": "https://localhost:8080/"
        },
        "id": "_78hxhBA-hLq",
        "outputId": "39eb7536-64b9-4f2e-e1e0-c834ce76b79a"
      },
      "execution_count": null,
      "outputs": [
        {
          "output_type": "execute_result",
          "data": {
            "text/plain": [
              "(torch.Size([3, 224, 224]), tensor(0))"
            ]
          },
          "metadata": {},
          "execution_count": 64
        }
      ]
    },
    {
      "cell_type": "code",
      "source": [
        "image_permuted = image.permute(1, 2, 0)\n",
        "\n",
        "# Create a series of subplots\n",
        "fig, axs = plt.subplots(nrows=1, \n",
        "                        ncols=img_size // patch_size, # one column for each patch\n",
        "                        figsize=(num_patches, num_patches),\n",
        "                        sharex=True,\n",
        "                        sharey=True)\n",
        "\n",
        "# Iterate through number of patches in the top row\n",
        "for i, patch in enumerate(range(0, img_size, patch_size)):\n",
        "    axs[i].imshow(image_permuted[:patch_size, patch:patch+patch_size, :]); # keep height index constant, alter the width index\n",
        "    axs[i].set_xlabel(i+1) # set the label\n",
        "    axs[i].set_xticks([])\n",
        "    axs[i].set_yticks([])"
      ],
      "metadata": {
        "colab": {
          "base_uri": "https://localhost:8080/",
          "height": 92
        },
        "id": "FFJ-GvZl3tto",
        "outputId": "65db414c-5019-4cca-c0da-603704d5a62e"
      },
      "execution_count": null,
      "outputs": [
        {
          "output_type": "display_data",
          "data": {
            "text/plain": [
              "<Figure size 1008x1008 with 14 Axes>"
            ],
            "image/png": "[encoded data removed]"
          },
          "metadata": {}
        }
      ]
    },
    {
      "cell_type": "code",
      "source": [
        "plt.imshow(image_permuted)"
      ],
      "metadata": {
        "colab": {
          "base_uri": "https://localhost:8080/",
          "height": 286
        },
        "id": "8Qfm5suT33Xb",
        "outputId": "e80599db-692a-4e54-a78f-87480e609c93"
      },
      "execution_count": null,
      "outputs": [
        {
          "output_type": "execute_result",
          "data": {
            "text/plain": [
              "<matplotlib.image.AxesImage at 0x7fa3dd5fdb50>"
            ]
          },
          "metadata": {},
          "execution_count": 66
        },
        {
          "output_type": "display_data",
          "data": {
            "text/plain": [
              "<Figure size 432x288 with 1 Axes>"
            ],
            "image/png": "[encoded data removed]"
          },
          "metadata": {
            "needs_background": "light"
          }
        }
      ]
    },
    {
      "cell_type": "code",
      "source": [
        "conv2d = nn.Conv2d(in_channels=C, out_channels=D, kernel_size=P, stride=P, padding=0)"
      ],
      "metadata": {
        "id": "5P-rqRS78o5b"
      },
      "execution_count": null,
      "outputs": []
    },
    {
      "cell_type": "code",
      "source": [
        "conv = conv2d(image.unsqueeze(0))\n",
        "conv.shape"
      ],
      "metadata": {
        "colab": {
          "base_uri": "https://localhost:8080/"
        },
        "id": "sRXBIL_pBSi7",
        "outputId": "327dd4c9-4b2a-4279-8cb5-2a2d9ad9ec58"
      },
      "execution_count": null,
      "outputs": [
        {
          "output_type": "execute_result",
          "data": {
            "text/plain": [
              "torch.Size([1, 768, 14, 14])"
            ]
          },
          "metadata": {},
          "execution_count": 68
        }
      ]
    },
    {
      "cell_type": "code",
      "source": [
        "flatten = nn.Flatten(start_dim=2, end_dim=3)\n",
        "\n",
        "flat = flatten(conv)\n",
        "\n",
        "flat.permute(0,2,1).shape"
      ],
      "metadata": {
        "colab": {
          "base_uri": "https://localhost:8080/"
        },
        "id": "imNUG8pFBYo_",
        "outputId": "848178bd-935f-4f69-8b06-94812f61003f"
      },
      "execution_count": null,
      "outputs": [
        {
          "output_type": "execute_result",
          "data": {
            "text/plain": [
              "torch.Size([1, 196, 768])"
            ]
          },
          "metadata": {},
          "execution_count": 69
        }
      ]
    },
    {
      "cell_type": "code",
      "source": [
        "flat_map = flat.permute(0,2,1)[:, :, 0]\n",
        "\n",
        "plt.figure(figsize=(22,22))\n",
        "plt.imshow(flat_map.detach().numpy())\n",
        "plt.title(f'Flattened feature map shape: {flat_map.shape}')\n",
        "plt.axis(False);"
      ],
      "metadata": {
        "colab": {
          "base_uri": "https://localhost:8080/",
          "height": 53
        },
        "id": "qzx7vOTM57bx",
        "outputId": "4fe53723-9b57-4f48-9731-85534e2c4c30"
      },
      "execution_count": null,
      "outputs": [
        {
          "output_type": "display_data",
          "data": {
            "text/plain": [
              "<Figure size 1584x1584 with 1 Axes>"
            ],
            "image/png": "[encoded data removed]"
          },
          "metadata": {
            "needs_background": "light"
          }
        }
      ]
    },
    {
      "cell_type": "markdown",
      "source": [
        "Eq. 1:\n",
        "\\begin{aligned}\n",
        "\\mathbf{z}_0 &=\\left[\\mathbf{x}_{\\text {class }} ; \\mathbf{x}_p^1 \\mathbf{E} ; \\mathbf{x}_p^2 \\mathbf{E} ; \\cdots ; \\mathbf{x}_p^N \\mathbf{E}\\right]+\\mathbf{E}_{p o s}, & & \\mathbf{E} \\in \\mathbb{R}^{\\left(P^2 \\cdot C\\right) \\times D}, \\mathbf{E}_{p o s} \\in \\mathbb{R}^{(N+1) \\times D}\n",
        "\\end{aligned}\n",
        "\n",
        "\"As an alternative to raw image patches, the input sequence can be formed from feature maps of a CNN (LeCun et al., 1989). In this hybrid model, the patch embedding projection $\\mathbf{E}$ (Eq. 1) is applied to patches extracted from a CNN feature map\".\n",
        "\n",
        "$\\mathbf{E}$ = *Embedding* (incrustación, inmersión, colocamiento de los parches en una nueva dimensión) \\\\\n",
        "$\\mathbf{z}_0$ = output de la primera layer (*i. e., embedding*) \\\\\n",
        "$\\mathbf{x}_p^N$ = Posición de cada parche de la inmersión (*embedding*)"
      ],
      "metadata": {
        "id": "H0IAjR42BAmZ"
      }
    },
    {
      "cell_type": "code",
      "source": [
        "# Para facilitar el proceso de parchear la imagen, utilizamos una CNN con una layer de Conv2d y una de Flatten, consiguiendo así la imagen con las dimensiones deseadas:\n",
        "\n",
        "class PatchEmbedding(nn.Module):\n",
        "  def __init__(self, in_channels: int=C, patch_size: int=P, embedding_dim: int=D):\n",
        "    super().__init__()\n",
        "    self.patch_size = patch_size\n",
        "    self.patcher = nn.Conv2d(in_channels=in_channels, out_channels=embedding_dim, kernel_size=patch_size, stride=patch_size, padding=0)\n",
        "    self.flatten = nn.Flatten(start_dim=2, end_dim=3)\n",
        "  \n",
        "  def forward(self, x):\n",
        "    resolution = x.shape[-1]\n",
        "    assert resolution % patch_size == 0\n",
        "\n",
        "    x_patched = self.patcher(x)\n",
        "    x_flattened = self.flatten(x_patched)\n",
        "    return x_flattened.permute(0, 2, 1)"
      ],
      "metadata": {
        "id": "9HwcN1tdCrah"
      },
      "execution_count": null,
      "outputs": []
    },
    {
      "cell_type": "code",
      "source": [
        "patchify = PatchEmbedding()\n",
        "\n",
        "print(image.unsqueeze(0).shape)\n",
        "embedded_image = patchify(image.unsqueeze(0))\n",
        "print(embedded_image.shape)"
      ],
      "metadata": {
        "colab": {
          "base_uri": "https://localhost:8080/"
        },
        "id": "_UxkzXn_JuOo",
        "outputId": "6583bf68-8f5c-4b66-8c6a-406a60dec4e1"
      },
      "execution_count": null,
      "outputs": [
        {
          "output_type": "stream",
          "name": "stdout",
          "text": [
            "torch.Size([1, 3, 224, 224])\n",
            "torch.Size([1, 196, 768])\n"
          ]
        }
      ]
    },
    {
      "cell_type": "code",
      "source": [
        "summary(PatchEmbedding(),\n",
        "        input_size=image.unsqueeze(0).shape, # try swapping this for \"random_input_image_error\" \n",
        "        col_names=[\"input_size\", \"output_size\", \"num_params\", \"trainable\"],\n",
        "        col_width=20,\n",
        "        row_settings=[\"var_names\"])"
      ],
      "metadata": {
        "id": "VpZIzC6oLIUv",
        "colab": {
          "base_uri": "https://localhost:8080/"
        },
        "outputId": "e87fcc2f-aeb4-469d-bd20-347593130d64"
      },
      "execution_count": null,
      "outputs": [
        {
          "output_type": "execute_result",
          "data": {
            "text/plain": [
              "========================================================================================================================\n",
              "Layer (type (var_name))                  Input Shape          Output Shape         Param #              Trainable\n",
              "========================================================================================================================\n",
              "PatchEmbedding (PatchEmbedding)          [1, 3, 224, 224]     [1, 196, 768]        --                   True\n",
              "├─Conv2d (patcher)                       [1, 3, 224, 224]     [1, 768, 14, 14]     590,592              True\n",
              "├─Flatten (flatten)                      [1, 768, 14, 14]     [1, 768, 196]        --                   --\n",
              "========================================================================================================================\n",
              "Total params: 590,592\n",
              "Trainable params: 590,592\n",
              "Non-trainable params: 0\n",
              "Total mult-adds (M): 115.76\n",
              "========================================================================================================================\n",
              "Input size (MB): 0.60\n",
              "Forward/backward pass size (MB): 1.20\n",
              "Params size (MB): 2.36\n",
              "Estimated Total Size (MB): 4.17\n",
              "========================================================================================================================"
            ]
          },
          "metadata": {},
          "execution_count": 73
        }
      ]
    },
    {
      "cell_type": "code",
      "source": [
        "print(embedded_image)\n",
        "print(embedded_image.shape)\n",
        "print(embedded_image.size(dim=1))"
      ],
      "metadata": {
        "colab": {
          "base_uri": "https://localhost:8080/"
        },
        "id": "dKQdIVal_J3M",
        "outputId": "b15f0c2b-7518-459e-cb84-7169471ee10d"
      },
      "execution_count": null,
      "outputs": [
        {
          "output_type": "stream",
          "name": "stdout",
          "text": [
            "tensor([[[ 0.1008,  0.0380, -0.0470,  ...,  0.0041,  0.0023,  0.0896],\n",
            "         [ 0.2432,  0.2987, -0.1254,  ...,  0.2290,  0.0217,  0.2726],\n",
            "         [ 0.2824,  0.3224, -0.1931,  ...,  0.3248,  0.0251,  0.3053],\n",
            "         ...,\n",
            "         [ 0.7308,  0.5749, -0.3160,  ...,  0.6886, -0.0258,  0.9730],\n",
            "         [ 0.6644,  0.6602, -0.3401,  ...,  0.6713, -0.0375,  0.8804],\n",
            "         [ 0.6207,  0.6333, -0.3803,  ...,  0.6360,  0.0038,  0.8214]]],\n",
            "       grad_fn=<PermuteBackward0>)\n",
            "torch.Size([1, 196, 768])\n",
            "196\n"
          ]
        }
      ]
    },
    {
      "cell_type": "markdown",
      "source": [
        "Después del embedding, debemos anteponer la *class token* ($X_{class}$); lo haremos con la metodología del paper BERT.\n",
        "\n",
        "Utilizaremos `torch.ones` para apreciar los cambios, pero en realidad se utiliza `torch.randn`.\n",
        "\n",
        "\"Similar to BERT’s class token, we prepend a learnable embedding to the sequence of embed- ded patches ($\\mathbf{z}_0^0 = X_{class}$), whose state at the output of the Transformer encoder ($\\mathbf{z}_L^0$) serves as the image representation y (Eq. 4)\".\n",
        "\n",
        "Eq. 4:\n",
        "\n",
        "\\begin{aligned}\n",
        "\\mathbf{y} &=\\operatorname{LN}\\left(\\mathbf{z}_L^0\\right) & &\n",
        "\\end{aligned}\n",
        "\n"
      ],
      "metadata": {
        "id": "Gr1yj3K9BxM7"
      }
    },
    {
      "cell_type": "code",
      "source": [
        "batch_size = embedded_image.shape[0]\n",
        "embedding_dimension = embedded_image.shape[-1]\n",
        "\n",
        "x_class = nn.Parameter(torch.ones(batch_size, 1, embedding_dimension),\n",
        "                       requires_grad=True)\n",
        "\n",
        "print(x_class[:, :, :10])\n",
        "print(f'Class token shape: {x_class.shape} -> [batch_size, number_of_tokens, embedding_dimension]')"
      ],
      "metadata": {
        "colab": {
          "base_uri": "https://localhost:8080/"
        },
        "id": "mmYAoirrCD_q",
        "outputId": "e2cca32f-5207-4079-ec96-cd91f24cf2f4"
      },
      "execution_count": null,
      "outputs": [
        {
          "output_type": "stream",
          "name": "stdout",
          "text": [
            "tensor([[[1., 1., 1., 1., 1., 1., 1., 1., 1., 1.]]], grad_fn=<SliceBackward0>)\n",
            "Class token shape: torch.Size([1, 1, 768]) -> [batch_size, number_of_tokens, embedding_dimension]\n"
          ]
        }
      ]
    },
    {
      "cell_type": "code",
      "source": [
        "embedded_image_with_class = torch.cat((x_class, embedded_image), dim=1)\n",
        "\n",
        "print(embedded_image_with_class)\n",
        "print(f'Sequence of patch embeddings with class token prepended shape: {embedded_image_with_class.shape} -> [batch_size, number_of_tokens, embedding_dimension]')"
      ],
      "metadata": {
        "colab": {
          "base_uri": "https://localhost:8080/"
        },
        "id": "v8wtvMt9DWZY",
        "outputId": "cff96c93-19ad-410a-8c0e-779d70ccb36b"
      },
      "execution_count": null,
      "outputs": [
        {
          "output_type": "stream",
          "name": "stdout",
          "text": [
            "tensor([[[ 1.0000,  1.0000,  1.0000,  ...,  1.0000,  1.0000,  1.0000],\n",
            "         [ 0.1008,  0.0380, -0.0470,  ...,  0.0041,  0.0023,  0.0896],\n",
            "         [ 0.2432,  0.2987, -0.1254,  ...,  0.2290,  0.0217,  0.2726],\n",
            "         ...,\n",
            "         [ 0.7308,  0.5749, -0.3160,  ...,  0.6886, -0.0258,  0.9730],\n",
            "         [ 0.6644,  0.6602, -0.3401,  ...,  0.6713, -0.0375,  0.8804],\n",
            "         [ 0.6207,  0.6333, -0.3803,  ...,  0.6360,  0.0038,  0.8214]]],\n",
            "       grad_fn=<CatBackward0>)\n",
            "Sequence of patch embeddings with class token prepended shape: torch.Size([1, 197, 768]) -> [batch_size, number_of_tokens, embedding_dimension]\n"
          ]
        }
      ]
    },
    {
      "cell_type": "code",
      "source": [
        "embedded_image_with_class.shape[2], N"
      ],
      "metadata": {
        "colab": {
          "base_uri": "https://localhost:8080/"
        },
        "id": "p8_30Zv55jSQ",
        "outputId": "bdd85e26-e6de-4a3c-b8d2-68d374c295c0"
      },
      "execution_count": null,
      "outputs": [
        {
          "output_type": "execute_result",
          "data": {
            "text/plain": [
              "(768, 196.0)"
            ]
          },
          "metadata": {},
          "execution_count": 77
        }
      ]
    },
    {
      "cell_type": "markdown",
      "source": [
        "Ahora agregaremos también las posiciones de cada parche en el embedding, según la ecuación 1:\n",
        "\n",
        "\\begin{aligned}\n",
        "\\mathbf{E}_{p o s} \\in \\mathbb{R}^{(N+1) \\times D}\n",
        "\\end{aligned}"
      ],
      "metadata": {
        "id": "cQah40e2DM9y"
      }
    },
    {
      "cell_type": "code",
      "source": [
        "# Nuevamente utilizaremos torch.ones por conveniencia\n",
        "\n",
        "Epos = nn.Parameter(torch.ones(1, int(N)+1, D), requires_grad=True)\n",
        "\n",
        "print(Epos[:, :10, :10])\n",
        "print(f'Dimensiones del embedding posicional: {Epos.shape} -> [batch_size, N, D]')"
      ],
      "metadata": {
        "colab": {
          "base_uri": "https://localhost:8080/"
        },
        "id": "oaXrM64JEBC_",
        "outputId": "fcfeafc2-07c8-46f3-f258-164bc7417350"
      },
      "execution_count": null,
      "outputs": [
        {
          "output_type": "stream",
          "name": "stdout",
          "text": [
            "tensor([[[1., 1., 1., 1., 1., 1., 1., 1., 1., 1.],\n",
            "         [1., 1., 1., 1., 1., 1., 1., 1., 1., 1.],\n",
            "         [1., 1., 1., 1., 1., 1., 1., 1., 1., 1.],\n",
            "         [1., 1., 1., 1., 1., 1., 1., 1., 1., 1.],\n",
            "         [1., 1., 1., 1., 1., 1., 1., 1., 1., 1.],\n",
            "         [1., 1., 1., 1., 1., 1., 1., 1., 1., 1.],\n",
            "         [1., 1., 1., 1., 1., 1., 1., 1., 1., 1.],\n",
            "         [1., 1., 1., 1., 1., 1., 1., 1., 1., 1.],\n",
            "         [1., 1., 1., 1., 1., 1., 1., 1., 1., 1.],\n",
            "         [1., 1., 1., 1., 1., 1., 1., 1., 1., 1.]]], grad_fn=<SliceBackward0>)\n",
            "Dimensiones del embedding posicional: torch.Size([1, 197, 768]) -> [batch_size, N, D]\n"
          ]
        }
      ]
    },
    {
      "cell_type": "code",
      "source": [
        "patch_and_position_embedding = embedded_image_with_class + Epos\n",
        "print(patch_and_position_embedding)\n",
        "print(f'Patch embeddings, class token prepended and positional embeddings added shape: {patch_and_position_embedding.shape} -> [batch_size, N, D]')"
      ],
      "metadata": {
        "colab": {
          "base_uri": "https://localhost:8080/"
        },
        "id": "ELCgpXvz5WEt",
        "outputId": "63891563-9f2e-4e28-a7a8-233d317b36a5"
      },
      "execution_count": null,
      "outputs": [
        {
          "output_type": "stream",
          "name": "stdout",
          "text": [
            "tensor([[[2.0000, 2.0000, 2.0000,  ..., 2.0000, 2.0000, 2.0000],\n",
            "         [1.1008, 1.0380, 0.9530,  ..., 1.0041, 1.0023, 1.0896],\n",
            "         [1.2432, 1.2987, 0.8746,  ..., 1.2290, 1.0217, 1.2726],\n",
            "         ...,\n",
            "         [1.7308, 1.5749, 0.6840,  ..., 1.6886, 0.9742, 1.9730],\n",
            "         [1.6644, 1.6602, 0.6599,  ..., 1.6713, 0.9625, 1.8804],\n",
            "         [1.6207, 1.6333, 0.6197,  ..., 1.6360, 1.0038, 1.8214]]],\n",
            "       grad_fn=<AddBackward0>)\n",
            "Patch embeddings, class token prepended and positional embeddings added shape: torch.Size([1, 197, 768]) -> [batch_size, N, D]\n"
          ]
        }
      ]
    },
    {
      "cell_type": "code",
      "source": [
        "X = X.unsqueeze(0).permute(0, 3, 1, 2)\n",
        "\n",
        "X.shape"
      ],
      "metadata": {
        "id": "l2H5q_2LIpAJ",
        "outputId": "b821469a-0741-4f8c-d8f2-fbbb42ec5420",
        "colab": {
          "base_uri": "https://localhost:8080/"
        }
      },
      "execution_count": null,
      "outputs": [
        {
          "output_type": "execute_result",
          "data": {
            "text/plain": [
              "torch.Size([1, 3, 224, 224])"
            ]
          },
          "metadata": {},
          "execution_count": 80
        }
      ]
    },
    {
      "cell_type": "code",
      "source": [
        "D"
      ],
      "metadata": {
        "colab": {
          "base_uri": "https://localhost:8080/"
        },
        "id": "lQGxW65E8TaK",
        "outputId": "8117c3e5-5ef0-45ee-b0fe-a22b8d7f1839"
      },
      "execution_count": null,
      "outputs": [
        {
          "output_type": "execute_result",
          "data": {
            "text/plain": [
              "768"
            ]
          },
          "metadata": {},
          "execution_count": 81
        }
      ]
    },
    {
      "cell_type": "code",
      "source": [
        "print(f'Image tensor shape: {image.shape}')\n",
        "print(f'Input image with batch dimension shape: {X.shape}')\n",
        "\n",
        "# Creamos una embedding layer para transformar la imagen (separaremos la imagen en parches para luego embeberlos linealmente)\n",
        "embedding_layer = PatchEmbedding(in_channels=3, patch_size=P, embedding_dim=D)\n",
        "\n",
        "patch_embedding = embedding_layer(X)\n",
        "print(f'Patch embedding shape: {patch_embedding.shape}')"
      ],
      "metadata": {
        "id": "KcrgNhJ0FBIo",
        "colab": {
          "base_uri": "https://localhost:8080/"
        },
        "outputId": "498e0994-fa2f-4f5e-e25f-db235011c3f5"
      },
      "execution_count": null,
      "outputs": [
        {
          "output_type": "stream",
          "name": "stdout",
          "text": [
            "Image tensor shape: torch.Size([3, 224, 224])\n",
            "Input image with batch dimension shape: torch.Size([1, 3, 224, 224])\n",
            "Patch embedding shape: torch.Size([1, 196, 768])\n"
          ]
        }
      ]
    },
    {
      "cell_type": "code",
      "source": [
        "batch_size = patch_embedding.shape[0]\n",
        "embedding_dimension = patch_embedding.shape[-1]\n",
        "\n",
        "# Ahora crearemos una class token (un identificador entrenable para cada parche)\n",
        "class_token = nn.Parameter(torch.ones(batch_size, 1, embedding_dimension), requires_grad=True)\n",
        "print(f'Class token embedding shape: {class_token.shape}')"
      ],
      "metadata": {
        "colab": {
          "base_uri": "https://localhost:8080/"
        },
        "id": "XVTQaNkk73_R",
        "outputId": "d78a835c-f5dd-4b2c-965c-d93047193d32"
      },
      "execution_count": null,
      "outputs": [
        {
          "output_type": "stream",
          "name": "stdout",
          "text": [
            "Class token embedding shape: torch.Size([1, 1, 768])\n"
          ]
        }
      ]
    },
    {
      "cell_type": "code",
      "source": [
        "# Anteponemos la class token al patch embedding\n",
        "\n",
        "patch_embedding_class_token = torch.cat((class_token, patch_embedding), dim=1)\n",
        "print(f'Patch embedding with class token shape: {patch_embedding_class_token.shape}')"
      ],
      "metadata": {
        "colab": {
          "base_uri": "https://localhost:8080/"
        },
        "id": "pl3SceaN9Lin",
        "outputId": "7d67b892-8f79-46b7-f0f9-a3986a787494"
      },
      "execution_count": null,
      "outputs": [
        {
          "output_type": "stream",
          "name": "stdout",
          "text": [
            "Patch embedding with class token shape: torch.Size([1, 197, 768])\n"
          ]
        }
      ]
    },
    {
      "cell_type": "code",
      "source": [
        "N"
      ],
      "metadata": {
        "colab": {
          "base_uri": "https://localhost:8080/"
        },
        "id": "aelCg_6l_QOy",
        "outputId": "1fcce270-3b95-4184-fdb5-7a7785a95ba9"
      },
      "execution_count": null,
      "outputs": [
        {
          "output_type": "execute_result",
          "data": {
            "text/plain": [
              "196.0"
            ]
          },
          "metadata": {},
          "execution_count": 85
        }
      ]
    },
    {
      "cell_type": "code",
      "source": [
        "# Ahora creamos el embedding posicional (para retener información posicional)\n",
        "\n",
        "position_embedding = nn.Parameter(torch.ones(1, int(N)+1, embedding_dimension), requires_grad=True)\n",
        "\n",
        "# Finalmente agregamos la posición al embedding parcheado y con tokens\n",
        "\n",
        "patch_and_position_embedding = patch_embedding_class_token + position_embedding\n",
        "print(f'Patch and position embedding shape: {patch_and_position_embedding.shape}')"
      ],
      "metadata": {
        "colab": {
          "base_uri": "https://localhost:8080/"
        },
        "id": "3bC4IXoj-DYC",
        "outputId": "20ba489c-cbb4-406b-aec9-849f098d73f3"
      },
      "execution_count": null,
      "outputs": [
        {
          "output_type": "stream",
          "name": "stdout",
          "text": [
            "Patch and position embedding shape: torch.Size([1, 197, 768])\n"
          ]
        }
      ]
    },
    {
      "cell_type": "markdown",
      "source": [
        "Ahora pasaremos al bloque $\\operatorname{MSA}$ —*Multi-Head Self Attention*— de la ecuación 2:\n",
        "\n",
        "\\begin{align}\n",
        "\\mathbf{z}_{\\ell}^{\\prime} &=\\operatorname{MSA}\\left(\\operatorname{LN}\\left(\\mathbf{z}_{\\ell-1}\\right)\\right)+\\mathbf{z}_{\\ell-1}, & & \\ell=1 \\ldots L \n",
        "\\end{align}\n",
        "\n",
        "En la Tabla 1 del paper se señala el número de Heads de cada modelo (12 para el ViT-Base); no se indica que se utilice dropout."
      ],
      "metadata": {
        "id": "_81inajTAZqM"
      }
    },
    {
      "cell_type": "code",
      "source": [
        "class MSABlock(nn.Module):\n",
        "  def __init__(self, embedding_dim: int=D, num_heads: int=12, attn_dropout: int=0):\n",
        "    super().__init__()\n",
        "    \n",
        "    self.layer_norm = nn.LayerNorm(normalized_shape=embedding_dim)\n",
        "\n",
        "    self.multihead_attn = nn.MultiheadAttention(embed_dim=embedding_dim, num_heads=num_heads, dropout=attn_dropout, batch_first=True) # Nuestra imagen sí tiene el batch en la primera dimensión\n",
        "\n",
        "  def forward(self, x):\n",
        "    x = self.layer_norm(x)\n",
        "    attn_output, _ = self.multihead_attn(query=x, key=x, value=x, need_weights=False) # No queremos weights, solo output de la layer\n",
        "    return attn_output\n",
        "\n",
        "# Únicamente falta agregarle la conexión residual \"+zl-1\"; la agregaremos después"
      ],
      "metadata": {
        "id": "gW1BtrC1_uzC"
      },
      "execution_count": null,
      "outputs": []
    },
    {
      "cell_type": "code",
      "source": [
        "MSA_Block = MSABlock()\n",
        "\n",
        "patched_image_through_msa = MSA_Block(patch_and_position_embedding)\n",
        "print(f\"Input shape of MSA block: {patch_and_position_embedding.shape}\")\n",
        "print(f\"Output shape MSA block: {patched_image_through_msa.shape}\")"
      ],
      "metadata": {
        "colab": {
          "base_uri": "https://localhost:8080/"
        },
        "id": "lOtmoC18tIz3",
        "outputId": "9b73202d-bb04-4f43-96f2-115af2d95c85"
      },
      "execution_count": null,
      "outputs": [
        {
          "output_type": "stream",
          "name": "stdout",
          "text": [
            "Input shape of MSA block: torch.Size([1, 197, 768])\n",
            "Output shape MSA block: torch.Size([1, 197, 768])\n"
          ]
        }
      ]
    },
    {
      "cell_type": "markdown",
      "source": [
        "Ahora implementaremos la tercera ecuación: el bloque MLP (*Multilayer Perceptron*):\n",
        "\n",
        "\\begin{align}\n",
        "\\mathbf{z}_{\\ell} &=\\operatorname{MLP}\\left(\\operatorname{LN}\\left(\\mathbf{z}_{\\ell}^{\\prime}\\right)\\right)+\\mathbf{z}_{\\ell}^{\\prime}, & & \\ell=1 \\ldots L\n",
        "\\end{align}\n",
        "\n",
        "En la sección 3.1, se indica que este bloque contiene \"two layers with a GELU non-linearity\". Además, en el apéndice B.1 se lee:\n",
        "\"Table 3 summarizes our training setups for our different models. ...Dropout, when used, is applied after every dense layer except for the the qkv-projections and directly after adding positional- to patch embeddings.\"\n",
        "\n",
        "La \"dense layer\" y la \"feedforward layer\" son layers lineales, por lo que cada layer lineal está acompañada de una dropout layer (con valor 0.1, como se especifica en la Table 3).\n",
        "\n",
        "Por último, en la Table 1 se especifica el MLP size para el modelo ViT-Base."
      ],
      "metadata": {
        "id": "yx3KFA-6zUiG"
      }
    },
    {
      "cell_type": "code",
      "source": [
        "class MLPBlock(nn.Module):\n",
        "  def __init__(self, embedding_dim: int=D, mlp_size: int=3072, dropout: int=0.1):\n",
        "    super().__init__()\n",
        "    \n",
        "    self.layer_norm = nn.LayerNorm(normalized_shape=embedding_dim)\n",
        "\n",
        "    self.mlp = nn.Sequential(\n",
        "        nn.Linear(in_features=embedding_dim, out_features=mlp_size),\n",
        "        nn.GELU(),\n",
        "        nn.Dropout(p=dropout),\n",
        "        nn.Linear(in_features=mlp_size, out_features=embedding_dim),\n",
        "        nn.Dropout(p=dropout))\n",
        "  \n",
        "  def forward(self, x):\n",
        "    return (self.mlp(self.layer_norm(x)))\n",
        "    \n",
        "# Queda pendiente agregar la conexión residual también"
      ],
      "metadata": {
        "id": "rYX-ugVutqpr"
      },
      "execution_count": null,
      "outputs": []
    },
    {
      "cell_type": "code",
      "source": [
        "MLP_Block = MLPBlock()\n",
        "\n",
        "patched_image_through_mlp = MLP_Block(patched_image_through_msa)\n",
        "print(f\"Input shape of MLP block: {patched_image_through_msa.shape}\")\n",
        "print(f\"Output shape MLP block: {patched_image_through_mlp.shape}\")"
      ],
      "metadata": {
        "colab": {
          "base_uri": "https://localhost:8080/"
        },
        "id": "lyFACAn38JA-",
        "outputId": "eff50436-9bbd-4eb8-a7e0-5d12a8ddf3d3"
      },
      "execution_count": null,
      "outputs": [
        {
          "output_type": "stream",
          "name": "stdout",
          "text": [
            "Input shape of MLP block: torch.Size([1, 197, 768])\n",
            "Output shape MLP block: torch.Size([1, 197, 768])\n"
          ]
        }
      ]
    },
    {
      "cell_type": "markdown",
      "source": [
        "Es momento de crear el Transformer encoder:\n",
        "\n",
        "\"The Transformer encoder (Vaswani et al., 2017) consists of alternating layers of multiheaded selfattention (MSA, see Appendix A) and MLP blocks (Eq. 2, 3). Layernorm (LN) is applied before every block, and residual connections after every block (Wang et al., 2019; Baevski & Auli, 2019).\""
      ],
      "metadata": {
        "id": "X-_KsvsO-xiZ"
      }
    },
    {
      "cell_type": "code",
      "source": [
        "class TransformerEncoder(nn.Module):\n",
        "  def __init__(self, embedding_dim: int=D, num_heads: int=12, mlp_size: int=3072, mlp_dropout: int=0.1, attn_dropout: int=0):\n",
        "    super().__init__()\n",
        "    self.msa_block = MSABlock()\n",
        "    self.mlp_block = MLPBlock()\n",
        "\n",
        "  def forward(self, x):\n",
        "    x = self.msa_block(x) + x\n",
        "    x = self.mlp_block(x) + x # Ahora ya agregamos las conexiones residuales\n",
        "    return x"
      ],
      "metadata": {
        "id": "yYV7mSzh-xNW"
      },
      "execution_count": null,
      "outputs": []
    },
    {
      "cell_type": "code",
      "source": [
        "encoder = TransformerEncoder()\n",
        "\n",
        "summary(model=encoder,\n",
        "        input_size=(1, 197, 768),\n",
        "        col_names=['input_size', 'output_size', 'num_params', 'trainable'],\n",
        "        col_width=20,\n",
        "        row_settings=['var_names'])"
      ],
      "metadata": {
        "colab": {
          "base_uri": "https://localhost:8080/"
        },
        "id": "OF2xSKrS8YeA",
        "outputId": "cbc19342-5bce-4223-e6af-be295c0d0af1"
      },
      "execution_count": null,
      "outputs": [
        {
          "output_type": "execute_result",
          "data": {
            "text/plain": [
              "============================================================================================================================================\n",
              "Layer (type (var_name))                                      Input Shape          Output Shape         Param #              Trainable\n",
              "============================================================================================================================================\n",
              "TransformerEncoder (TransformerEncoder)                      [1, 197, 768]        [1, 197, 768]        --                   True\n",
              "├─MSABlock (msa_block)                                       [1, 197, 768]        [1, 197, 768]        --                   True\n",
              "│    └─LayerNorm (layer_norm)                                [1, 197, 768]        [1, 197, 768]        1,536                True\n",
              "│    └─MultiheadAttention (multihead_attn)                   --                   [1, 197, 768]        1,771,776            True\n",
              "│    │    └─NonDynamicallyQuantizableLinear (out_proj)       --                   --                   590,592              True\n",
              "├─MLPBlock (mlp_block)                                       [1, 197, 768]        [1, 197, 768]        --                   True\n",
              "│    └─LayerNorm (layer_norm)                                [1, 197, 768]        [1, 197, 768]        1,536                True\n",
              "│    └─Sequential (mlp)                                      [1, 197, 768]        [1, 197, 768]        --                   True\n",
              "│    │    └─Linear (0)                                       [1, 197, 768]        [1, 197, 3072]       2,362,368            True\n",
              "│    │    └─GELU (1)                                         [1, 197, 3072]       [1, 197, 3072]       --                   --\n",
              "│    │    └─Dropout (2)                                      [1, 197, 3072]       [1, 197, 3072]       --                   --\n",
              "│    │    └─Linear (3)                                       [1, 197, 3072]       [1, 197, 768]        2,360,064            True\n",
              "│    │    └─Dropout (4)                                      [1, 197, 768]        [1, 197, 768]        --                   --\n",
              "============================================================================================================================================\n",
              "Total params: 7,087,872\n",
              "Trainable params: 7,087,872\n",
              "Non-trainable params: 0\n",
              "Total mult-adds (M): 4.73\n",
              "============================================================================================================================================\n",
              "Input size (MB): 0.61\n",
              "Forward/backward pass size (MB): 8.47\n",
              "Params size (MB): 21.26\n",
              "Estimated Total Size (MB): 30.34\n",
              "============================================================================================================================================"
            ]
          },
          "metadata": {},
          "execution_count": 100
        }
      ]
    },
    {
      "cell_type": "code",
      "source": [
        "# El encoder de PyTorch se utiliza de manera similar:\n",
        "\n",
        "torch_encoder = nn.TransformerEncoderLayer(d_model=D, nhead=12, dim_feedforward=3072,\n",
        "                                           dropout=0.1, activation='gelu', batch_first=True, norm_first=True)\n",
        "\n",
        "torch_encoder"
      ],
      "metadata": {
        "colab": {
          "base_uri": "https://localhost:8080/"
        },
        "id": "tA4AwMa9NAyL",
        "outputId": "39fbfe07-61e7-4a62-d196-ee9b969cb1de"
      },
      "execution_count": null,
      "outputs": [
        {
          "output_type": "execute_result",
          "data": {
            "text/plain": [
              "TransformerEncoderLayer(\n",
              "  (self_attn): MultiheadAttention(\n",
              "    (out_proj): NonDynamicallyQuantizableLinear(in_features=768, out_features=768, bias=True)\n",
              "  )\n",
              "  (linear1): Linear(in_features=768, out_features=3072, bias=True)\n",
              "  (dropout): Dropout(p=0.1, inplace=False)\n",
              "  (linear2): Linear(in_features=3072, out_features=768, bias=True)\n",
              "  (norm1): LayerNorm((768,), eps=1e-05, elementwise_affine=True)\n",
              "  (norm2): LayerNorm((768,), eps=1e-05, elementwise_affine=True)\n",
              "  (dropout1): Dropout(p=0.1, inplace=False)\n",
              "  (dropout2): Dropout(p=0.1, inplace=False)\n",
              ")"
            ]
          },
          "metadata": {},
          "execution_count": 102
        }
      ]
    },
    {
      "cell_type": "code",
      "source": [
        "# El paper indica que se utilicen 12 encoders, de manera que podemos hacer esto también con PyTorch:\n",
        "\n",
        "encoder_block = torch.nn.TransformerEncoder(encoder_layer=torch_encoder, num_layers=12)\n",
        "\n",
        "#encoder_block"
      ],
      "metadata": {
        "id": "x7PIXpA0OC9W"
      },
      "execution_count": null,
      "outputs": []
    },
    {
      "cell_type": "code",
      "source": [
        "P"
      ],
      "metadata": {
        "colab": {
          "base_uri": "https://localhost:8080/"
        },
        "id": "R-TI857BO5Bg",
        "outputId": "6a171b7c-ab8a-4b26-dc60-2b0e3814cff9"
      },
      "execution_count": null,
      "outputs": [
        {
          "output_type": "execute_result",
          "data": {
            "text/plain": [
              "16"
            ]
          },
          "metadata": {},
          "execution_count": 106
        }
      ]
    },
    {
      "cell_type": "code",
      "source": [
        "class ViT(nn.Module):\n",
        "  def __init__(self, img_size:int=H, in_channels:int=C, patch_size:int=P, num_layers:int=12, embedding_dim:int=D,\n",
        "               mlp_size:int=3072, num_heads:int=12, attn_dropout:int=0, mlp_dropout:int=0.1, embed_dropout:int=0.1, num_classes:int=1000 # Default para ImageNet\n",
        "               ):\n",
        "    super().__init__()\n",
        "    assert img_size % patch_size == 0\n",
        "    \n",
        "    self.num_patches = (img_size*img_size) // patch_size**2\n",
        "\n",
        "    self.class_embedding = nn.Parameter(data=torch.randn(1, 1, embedding_dim), requires_grad=True)\n",
        "\n",
        "    self.position_embedding = nn.Parameter(data=torch.randn(1, self.num_patches+1, embedding_dim), requires_grad=True)\n",
        "\n",
        "    self.embedding_dropout = nn.Dropout(p=embed_dropout)\n",
        "\n",
        "    self.patch_embedding = PatchEmbedding(in_channels=in_channels, patch_size=patch_size, embedding_dim=embedding_dim)\n",
        "\n",
        "    self.transformer_encoder = nn.Sequential(*[TransformerEncoder(embedding_dim=embedding_dim, num_heads=num_heads, mlp_size=mlp_size, mlp_dropout=mlp_dropout) for _ in range(num_layers)]) # El * siginifica \"todos\"\n",
        "\n",
        "    self.classifier = nn.Sequential(nn.LayerNorm(normalized_shape=embedding_dim),\n",
        "                                    nn.Linear(in_features=embedding_dim, out_features=num_classes)) # Esta es la classifier head\n",
        "    \n",
        "  def forward(self, x):\n",
        "    batch_size = x.shape[0]\n",
        "    class_token = self.class_embedding.expand(batch_size, -1, -1)\n",
        "    x = self.patch_embedding(x)\n",
        "    x = torch.cat((class_token, x), dim=1)\n",
        "    x = self.position_embedding + x\n",
        "    x = self.embedding_dropout(x)\n",
        "    x = self.transformer_encoder(x)\n",
        "    x = self.classifier(x[:, 0]) # Pasar el logit index 0 de cada muestra en un batch por el clasificador\n",
        "    return x"
      ],
      "metadata": {
        "id": "djuO18GJOcQQ"
      },
      "execution_count": null,
      "outputs": []
    },
    {
      "cell_type": "code",
      "source": [
        "# Example of creating the class embedding and expanding over a batch dimension\n",
        "batch_size = 32\n",
        "class_token_embedding_single = nn.Parameter(data=torch.randn(1, 1, 768)) # create a single learnable class token\n",
        "class_token_embedding_expanded = class_token_embedding_single.expand(batch_size, -1, -1) # expand the single learnable class token across the batch dimension, \"-1\" means to \"infer the dimension\"\n",
        "\n",
        "# Print out the change in shapes\n",
        "print(f\"Shape of class token embedding single: {class_token_embedding_single.shape}\") \n",
        "print(f\"Shape of class token embedding expanded: {class_token_embedding_expanded.shape}\")"
      ],
      "metadata": {
        "colab": {
          "base_uri": "https://localhost:8080/"
        },
        "id": "CAkyeQpkRoA4",
        "outputId": "d1f29f31-f5a4-4ea3-a919-cc1104fbf82f"
      },
      "execution_count": null,
      "outputs": [
        {
          "output_type": "stream",
          "name": "stdout",
          "text": [
            "Shape of class token embedding single: torch.Size([1, 1, 768])\n",
            "Shape of class token embedding expanded: torch.Size([32, 1, 768])\n"
          ]
        }
      ]
    },
    {
      "cell_type": "code",
      "source": [
        "vit = ViT(num_classes=len(class_names))"
      ],
      "metadata": {
        "id": "UQso0Us1SQQr"
      },
      "execution_count": null,
      "outputs": []
    },
    {
      "cell_type": "code",
      "source": [
        "summary(model=vit,\n",
        "        input_size=(32, 3, 224, 224), # (batch_size, color_channels, height, width)\n",
        "        #col_names=[\"input_size\"], # uncomment for smaller output\n",
        "        col_names=[\"input_size\", \"output_size\", \"num_params\", \"trainable\"],\n",
        "        col_width=20,\n",
        "        row_settings=[\"var_names\"])"
      ],
      "metadata": {
        "colab": {
          "base_uri": "https://localhost:8080/"
        },
        "id": "5b2iXoGNR1YQ",
        "outputId": "caf3ffe2-e228-4cd0-950c-19ff11369624"
      },
      "execution_count": null,
      "outputs": [
        {
          "output_type": "execute_result",
          "data": {
            "text/plain": [
              "======================================================================================================================================================\n",
              "Layer (type (var_name))                                                Input Shape          Output Shape         Param #              Trainable\n",
              "======================================================================================================================================================\n",
              "ViT (ViT)                                                              [32, 3, 224, 224]    [32, 3]              152,064              True\n",
              "├─Dropout (embedding_dropout)                                          [32, 197, 768]       [32, 197, 768]       --                   --\n",
              "├─PatchEmbedding (patch_embedding)                                     [32, 3, 224, 224]    [32, 196, 768]       --                   True\n",
              "│    └─Conv2d (patcher)                                                [32, 3, 224, 224]    [32, 768, 14, 14]    590,592              True\n",
              "│    └─Flatten (flatten)                                               [32, 768, 14, 14]    [32, 768, 196]       --                   --\n",
              "├─Dropout (embedding_dropout)                                          [32, 197, 768]       [32, 197, 768]       --                   --\n",
              "├─Sequential (transformer_encoder)                                     [32, 197, 768]       [32, 197, 768]       --                   True\n",
              "│    └─TransformerEncoder (0)                                          [32, 197, 768]       [32, 197, 768]       --                   True\n",
              "│    │    └─MSABlock (msa_block)                                       [32, 197, 768]       [32, 197, 768]       2,363,904            True\n",
              "│    │    └─MLPBlock (mlp_block)                                       [32, 197, 768]       [32, 197, 768]       4,723,968            True\n",
              "│    └─TransformerEncoder (1)                                          [32, 197, 768]       [32, 197, 768]       --                   True\n",
              "│    │    └─MSABlock (msa_block)                                       [32, 197, 768]       [32, 197, 768]       2,363,904            True\n",
              "│    │    └─MLPBlock (mlp_block)                                       [32, 197, 768]       [32, 197, 768]       4,723,968            True\n",
              "│    └─TransformerEncoder (2)                                          [32, 197, 768]       [32, 197, 768]       --                   True\n",
              "│    │    └─MSABlock (msa_block)                                       [32, 197, 768]       [32, 197, 768]       2,363,904            True\n",
              "│    │    └─MLPBlock (mlp_block)                                       [32, 197, 768]       [32, 197, 768]       4,723,968            True\n",
              "│    └─TransformerEncoder (3)                                          [32, 197, 768]       [32, 197, 768]       --                   True\n",
              "│    │    └─MSABlock (msa_block)                                       [32, 197, 768]       [32, 197, 768]       2,363,904            True\n",
              "│    │    └─MLPBlock (mlp_block)                                       [32, 197, 768]       [32, 197, 768]       4,723,968            True\n",
              "│    └─TransformerEncoder (4)                                          [32, 197, 768]       [32, 197, 768]       --                   True\n",
              "│    │    └─MSABlock (msa_block)                                       [32, 197, 768]       [32, 197, 768]       2,363,904            True\n",
              "│    │    └─MLPBlock (mlp_block)                                       [32, 197, 768]       [32, 197, 768]       4,723,968            True\n",
              "│    └─TransformerEncoder (5)                                          [32, 197, 768]       [32, 197, 768]       --                   True\n",
              "│    │    └─MSABlock (msa_block)                                       [32, 197, 768]       [32, 197, 768]       2,363,904            True\n",
              "│    │    └─MLPBlock (mlp_block)                                       [32, 197, 768]       [32, 197, 768]       4,723,968            True\n",
              "│    └─TransformerEncoder (6)                                          [32, 197, 768]       [32, 197, 768]       --                   True\n",
              "│    │    └─MSABlock (msa_block)                                       [32, 197, 768]       [32, 197, 768]       2,363,904            True\n",
              "│    │    └─MLPBlock (mlp_block)                                       [32, 197, 768]       [32, 197, 768]       4,723,968            True\n",
              "│    └─TransformerEncoder (7)                                          [32, 197, 768]       [32, 197, 768]       --                   True\n",
              "│    │    └─MSABlock (msa_block)                                       [32, 197, 768]       [32, 197, 768]       2,363,904            True\n",
              "│    │    └─MLPBlock (mlp_block)                                       [32, 197, 768]       [32, 197, 768]       4,723,968            True\n",
              "│    └─TransformerEncoder (8)                                          [32, 197, 768]       [32, 197, 768]       --                   True\n",
              "│    │    └─MSABlock (msa_block)                                       [32, 197, 768]       [32, 197, 768]       2,363,904            True\n",
              "│    │    └─MLPBlock (mlp_block)                                       [32, 197, 768]       [32, 197, 768]       4,723,968            True\n",
              "│    └─TransformerEncoder (9)                                          [32, 197, 768]       [32, 197, 768]       --                   True\n",
              "│    │    └─MSABlock (msa_block)                                       [32, 197, 768]       [32, 197, 768]       2,363,904            True\n",
              "│    │    └─MLPBlock (mlp_block)                                       [32, 197, 768]       [32, 197, 768]       4,723,968            True\n",
              "│    └─TransformerEncoder (10)                                         [32, 197, 768]       [32, 197, 768]       --                   True\n",
              "│    │    └─MSABlock (msa_block)                                       [32, 197, 768]       [32, 197, 768]       2,363,904            True\n",
              "│    │    └─MLPBlock (mlp_block)                                       [32, 197, 768]       [32, 197, 768]       4,723,968            True\n",
              "│    └─TransformerEncoder (11)                                         [32, 197, 768]       [32, 197, 768]       --                   True\n",
              "│    │    └─MSABlock (msa_block)                                       [32, 197, 768]       [32, 197, 768]       2,363,904            True\n",
              "│    │    └─MLPBlock (mlp_block)                                       [32, 197, 768]       [32, 197, 768]       4,723,968            True\n",
              "├─Sequential (classifier)                                              [32, 768]            [32, 3]              --                   True\n",
              "│    └─LayerNorm (0)                                                   [32, 768]            [32, 768]            1,536                True\n",
              "│    └─Linear (1)                                                      [32, 768]            [32, 3]              2,307                True\n",
              "======================================================================================================================================================\n",
              "Total params: 85,800,963\n",
              "Trainable params: 85,800,963\n",
              "Non-trainable params: 0\n",
              "Total mult-adds (G): 5.52\n",
              "======================================================================================================================================================\n",
              "Input size (MB): 19.27\n",
              "Forward/backward pass size (MB): 3292.20\n",
              "Params size (MB): 257.55\n",
              "Estimated Total Size (MB): 3569.02\n",
              "======================================================================================================================================================"
            ]
          },
          "metadata": {},
          "execution_count": 119
        }
      ]
    },
    {
      "cell_type": "markdown",
      "source": [
        "Optimizador:\n",
        "\n",
        "\"Training & Fine-tuning. We train all models, including ResNets, using Adam (Kingma & Ba, 2015 ) with β1= 0.9, β2 = 0.999, a batch size of 4096 and apply a high weight decay of 0.1, which we found to be useful for transfer of all models (Appendix D.1 shows that, in contrast to common practices, Adam works slightly better than SGD for ResNets in our setting)\".\n",
        "\n",
        "Sobre la loss function no se menciona nada."
      ],
      "metadata": {
        "id": "niMcLjdhUfwN"
      }
    },
    {
      "cell_type": "code",
      "source": [
        "from going_modular.going_modular import engine\n",
        "\n",
        "optimizer = torch.optim.Adam(params=vit.parameters(), lr=1e-3, # Tomada de Table 3\n",
        "                             betas=(0.9, 0.999), weight_decay=0.1)\n",
        "\n",
        "loss_fn = torch.nn.CrossEntropyLoss()\n",
        "\n",
        "results = engine.train(model=vit, train_dataloader=train_dataloader, test_dataloader=test_dataloader,\n",
        "                       optimizer=optimizer, loss_fn=loss_fn, epochs=10, device=device)"
      ],
      "metadata": {
        "colab": {
          "base_uri": "https://localhost:8080/",
          "height": 219,
          "referenced_widgets": [
            "08859ce0a87441e48e3cc2cc1a4d2acc",
            "6494949aa2014c56bb96b5273ee65657",
            "ea2b596a69634fbd8d17719de8e9ea91",
            "708ce696112c4a5e99ecbbc397309fa3",
            "1d65259a0f7a4ff5b81007d3fe4634e7",
            "feb10ab2873741de854ca40cb28ee04c",
            "6f2d9441d8514c648f32b4cd99f0b146",
            "026e049ee06840fba01075528364852c",
            "75d5dfc877c6495ab4f1f3de87c6aaf1",
            "ca9f4a826d814ad1a68912f85771a915",
            "fdf7897129c0483cbcd647319bd59f8a"
          ]
        },
        "id": "IC6RcaC7SXGx",
        "outputId": "58e76093-161e-4afe-e91d-1ded5efe907a"
      },
      "execution_count": null,
      "outputs": [
        {
          "output_type": "display_data",
          "data": {
            "text/plain": [
              "  0%|          | 0/10 [00:00<?, ?it/s]"
            ],
            "application/vnd.jupyter.widget-view+json": {
              "version_major": 2,
              "version_minor": 0,
              "model_id": "08859ce0a87441e48e3cc2cc1a4d2acc"
            }
          },
          "metadata": {}
        },
        {
          "output_type": "stream",
          "name": "stdout",
          "text": [
            "Epoch: 1 | train_loss: 3.5110 | train_acc: 0.4023 | test_loss: 3.3281 | test_acc: 0.1979\n",
            "Epoch: 2 | train_loss: 1.6288 | train_acc: 0.2930 | test_loss: 1.0311 | test_acc: 0.5417\n",
            "Epoch: 3 | train_loss: 1.3252 | train_acc: 0.3047 | test_loss: 1.7387 | test_acc: 0.1979\n",
            "Epoch: 4 | train_loss: 1.4768 | train_acc: 0.4102 | test_loss: 2.6537 | test_acc: 0.1979\n",
            "Epoch: 5 | train_loss: 1.5254 | train_acc: 0.2891 | test_loss: 3.0690 | test_acc: 0.2604\n",
            "Epoch: 6 | train_loss: 1.6855 | train_acc: 0.3750 | test_loss: 3.0013 | test_acc: 0.2604\n",
            "Epoch: 7 | train_loss: 1.4790 | train_acc: 0.4219 | test_loss: 1.5837 | test_acc: 0.1979\n",
            "Epoch: 8 | train_loss: 1.3062 | train_acc: 0.2852 | test_loss: 1.0421 | test_acc: 0.5417\n",
            "Epoch: 9 | train_loss: 1.2064 | train_acc: 0.2695 | test_loss: 1.3165 | test_acc: 0.2604\n",
            "Epoch: 10 | train_loss: 1.2871 | train_acc: 0.2891 | test_loss: 1.4385 | test_acc: 0.2604\n"
          ]
        }
      ]
    },
    {
      "cell_type": "code",
      "source": [
        "from helper_functions import plot_loss_curves\n",
        "\n",
        "# Plot our ViT model's loss curves\n",
        "plot_loss_curves(results)"
      ],
      "metadata": {
        "colab": {
          "base_uri": "https://localhost:8080/",
          "height": 458
        },
        "id": "W_qSJacpVAbL",
        "outputId": "a3c2748e-c8ce-4a82-e1b9-ffde6b9e1bf4"
      },
      "execution_count": null,
      "outputs": [
        {
          "output_type": "display_data",
          "data": {
            "text/plain": [
              "<Figure size 1080x504 with 2 Axes>"
            ],
            "image/png": "[encoded data removed]"
          },
          "metadata": {
            "needs_background": "light"
          }
        }
      ]
    },
    {
      "cell_type": "code",
      "source": [
        "pretrained_weights = torchvision.models.ViT_B_16_Weights.DEFAULT\n",
        "\n",
        "pretrained_vit = torchvision.models.vit_b_16(weights=pretrained_weights).to(device)\n",
        "\n",
        "for parameter in pretrained_vit.parameters():\n",
        "  parameter.requires_grad = False\n",
        "\n",
        "pretrained_vit.heads = nn.Linear(in_features=D, out_features=len(class_names)).to(device)\n",
        "pretrained_vit"
      ],
      "metadata": {
        "colab": {
          "base_uri": "https://localhost:8080/",
          "height": 1000,
          "referenced_widgets": [
            "a412ad0edd574bf98e06fce9ccf5cdcd",
            "eadd730bd8824951a405c604677fe6db",
            "5dafb08da84148989cb675dea97f3a00",
            "4c75e515c4014e349ec5a85647836d95",
            "a1fe7fc9b4a74266b925e8f7f6b9947a",
            "634dc4f1958947ecb5318b2c72d0d1f5",
            "f67f9e5d12f249a7b7bc78a437a04f2d",
            "d25ed4a0da8f48e8bb32d572236c2580",
            "8b98826b01704a8b8d17bd0746f6ca1d",
            "892240c5e80747328a0a8b7f0f51c5c4",
            "087b74934a5b43869d90a46e7b28a9bf"
          ]
        },
        "id": "1gdwAVQ6WNL_",
        "outputId": "9823b5c5-2e7a-45c5-a70a-5a616e37fe43"
      },
      "execution_count": null,
      "outputs": [
        {
          "output_type": "stream",
          "name": "stderr",
          "text": [
            "Downloading: \"https://download.pytorch.org/models/vit_b_16-c867db91.pth\" to /root/.cache/torch/hub/checkpoints/vit_b_16-c867db91.pth\n"
          ]
        },
        {
          "output_type": "display_data",
          "data": {
            "text/plain": [
              "  0%|          | 0.00/330M [00:00<?, ?B/s]"
            ],
            "application/vnd.jupyter.widget-view+json": {
              "version_major": 2,
              "version_minor": 0,
              "model_id": "a412ad0edd574bf98e06fce9ccf5cdcd"
            }
          },
          "metadata": {}
        },
        {
          "output_type": "execute_result",
          "data": {
            "text/plain": [
              "VisionTransformer(\n",
              "  (conv_proj): Conv2d(3, 768, kernel_size=(16, 16), stride=(16, 16))\n",
              "  (encoder): Encoder(\n",
              "    (dropout): Dropout(p=0.0, inplace=False)\n",
              "    (layers): Sequential(\n",
              "      (encoder_layer_0): EncoderBlock(\n",
              "        (ln_1): LayerNorm((768,), eps=1e-06, elementwise_affine=True)\n",
              "        (self_attention): MultiheadAttention(\n",
              "          (out_proj): NonDynamicallyQuantizableLinear(in_features=768, out_features=768, bias=True)\n",
              "        )\n",
              "        (dropout): Dropout(p=0.0, inplace=False)\n",
              "        (ln_2): LayerNorm((768,), eps=1e-06, elementwise_affine=True)\n",
              "        (mlp): MLPBlock(\n",
              "          (0): Linear(in_features=768, out_features=3072, bias=True)\n",
              "          (1): GELU(approximate=none)\n",
              "          (2): Dropout(p=0.0, inplace=False)\n",
              "          (3): Linear(in_features=3072, out_features=768, bias=True)\n",
              "          (4): Dropout(p=0.0, inplace=False)\n",
              "        )\n",
              "      )\n",
              "      (encoder_layer_1): EncoderBlock(\n",
              "        (ln_1): LayerNorm((768,), eps=1e-06, elementwise_affine=True)\n",
              "        (self_attention): MultiheadAttention(\n",
              "          (out_proj): NonDynamicallyQuantizableLinear(in_features=768, out_features=768, bias=True)\n",
              "        )\n",
              "        (dropout): Dropout(p=0.0, inplace=False)\n",
              "        (ln_2): LayerNorm((768,), eps=1e-06, elementwise_affine=True)\n",
              "        (mlp): MLPBlock(\n",
              "          (0): Linear(in_features=768, out_features=3072, bias=True)\n",
              "          (1): GELU(approximate=none)\n",
              "          (2): Dropout(p=0.0, inplace=False)\n",
              "          (3): Linear(in_features=3072, out_features=768, bias=True)\n",
              "          (4): Dropout(p=0.0, inplace=False)\n",
              "        )\n",
              "      )\n",
              "      (encoder_layer_2): EncoderBlock(\n",
              "        (ln_1): LayerNorm((768,), eps=1e-06, elementwise_affine=True)\n",
              "        (self_attention): MultiheadAttention(\n",
              "          (out_proj): NonDynamicallyQuantizableLinear(in_features=768, out_features=768, bias=True)\n",
              "        )\n",
              "        (dropout): Dropout(p=0.0, inplace=False)\n",
              "        (ln_2): LayerNorm((768,), eps=1e-06, elementwise_affine=True)\n",
              "        (mlp): MLPBlock(\n",
              "          (0): Linear(in_features=768, out_features=3072, bias=True)\n",
              "          (1): GELU(approximate=none)\n",
              "          (2): Dropout(p=0.0, inplace=False)\n",
              "          (3): Linear(in_features=3072, out_features=768, bias=True)\n",
              "          (4): Dropout(p=0.0, inplace=False)\n",
              "        )\n",
              "      )\n",
              "      (encoder_layer_3): EncoderBlock(\n",
              "        (ln_1): LayerNorm((768,), eps=1e-06, elementwise_affine=True)\n",
              "        (self_attention): MultiheadAttention(\n",
              "          (out_proj): NonDynamicallyQuantizableLinear(in_features=768, out_features=768, bias=True)\n",
              "        )\n",
              "        (dropout): Dropout(p=0.0, inplace=False)\n",
              "        (ln_2): LayerNorm((768,), eps=1e-06, elementwise_affine=True)\n",
              "        (mlp): MLPBlock(\n",
              "          (0): Linear(in_features=768, out_features=3072, bias=True)\n",
              "          (1): GELU(approximate=none)\n",
              "          (2): Dropout(p=0.0, inplace=False)\n",
              "          (3): Linear(in_features=3072, out_features=768, bias=True)\n",
              "          (4): Dropout(p=0.0, inplace=False)\n",
              "        )\n",
              "      )\n",
              "      (encoder_layer_4): EncoderBlock(\n",
              "        (ln_1): LayerNorm((768,), eps=1e-06, elementwise_affine=True)\n",
              "        (self_attention): MultiheadAttention(\n",
              "          (out_proj): NonDynamicallyQuantizableLinear(in_features=768, out_features=768, bias=True)\n",
              "        )\n",
              "        (dropout): Dropout(p=0.0, inplace=False)\n",
              "        (ln_2): LayerNorm((768,), eps=1e-06, elementwise_affine=True)\n",
              "        (mlp): MLPBlock(\n",
              "          (0): Linear(in_features=768, out_features=3072, bias=True)\n",
              "          (1): GELU(approximate=none)\n",
              "          (2): Dropout(p=0.0, inplace=False)\n",
              "          (3): Linear(in_features=3072, out_features=768, bias=True)\n",
              "          (4): Dropout(p=0.0, inplace=False)\n",
              "        )\n",
              "      )\n",
              "      (encoder_layer_5): EncoderBlock(\n",
              "        (ln_1): LayerNorm((768,), eps=1e-06, elementwise_affine=True)\n",
              "        (self_attention): MultiheadAttention(\n",
              "          (out_proj): NonDynamicallyQuantizableLinear(in_features=768, out_features=768, bias=True)\n",
              "        )\n",
              "        (dropout): Dropout(p=0.0, inplace=False)\n",
              "        (ln_2): LayerNorm((768,), eps=1e-06, elementwise_affine=True)\n",
              "        (mlp): MLPBlock(\n",
              "          (0): Linear(in_features=768, out_features=3072, bias=True)\n",
              "          (1): GELU(approximate=none)\n",
              "          (2): Dropout(p=0.0, inplace=False)\n",
              "          (3): Linear(in_features=3072, out_features=768, bias=True)\n",
              "          (4): Dropout(p=0.0, inplace=False)\n",
              "        )\n",
              "      )\n",
              "      (encoder_layer_6): EncoderBlock(\n",
              "        (ln_1): LayerNorm((768,), eps=1e-06, elementwise_affine=True)\n",
              "        (self_attention): MultiheadAttention(\n",
              "          (out_proj): NonDynamicallyQuantizableLinear(in_features=768, out_features=768, bias=True)\n",
              "        )\n",
              "        (dropout): Dropout(p=0.0, inplace=False)\n",
              "        (ln_2): LayerNorm((768,), eps=1e-06, elementwise_affine=True)\n",
              "        (mlp): MLPBlock(\n",
              "          (0): Linear(in_features=768, out_features=3072, bias=True)\n",
              "          (1): GELU(approximate=none)\n",
              "          (2): Dropout(p=0.0, inplace=False)\n",
              "          (3): Linear(in_features=3072, out_features=768, bias=True)\n",
              "          (4): Dropout(p=0.0, inplace=False)\n",
              "        )\n",
              "      )\n",
              "      (encoder_layer_7): EncoderBlock(\n",
              "        (ln_1): LayerNorm((768,), eps=1e-06, elementwise_affine=True)\n",
              "        (self_attention): MultiheadAttention(\n",
              "          (out_proj): NonDynamicallyQuantizableLinear(in_features=768, out_features=768, bias=True)\n",
              "        )\n",
              "        (dropout): Dropout(p=0.0, inplace=False)\n",
              "        (ln_2): LayerNorm((768,), eps=1e-06, elementwise_affine=True)\n",
              "        (mlp): MLPBlock(\n",
              "          (0): Linear(in_features=768, out_features=3072, bias=True)\n",
              "          (1): GELU(approximate=none)\n",
              "          (2): Dropout(p=0.0, inplace=False)\n",
              "          (3): Linear(in_features=3072, out_features=768, bias=True)\n",
              "          (4): Dropout(p=0.0, inplace=False)\n",
              "        )\n",
              "      )\n",
              "      (encoder_layer_8): EncoderBlock(\n",
              "        (ln_1): LayerNorm((768,), eps=1e-06, elementwise_affine=True)\n",
              "        (self_attention): MultiheadAttention(\n",
              "          (out_proj): NonDynamicallyQuantizableLinear(in_features=768, out_features=768, bias=True)\n",
              "        )\n",
              "        (dropout): Dropout(p=0.0, inplace=False)\n",
              "        (ln_2): LayerNorm((768,), eps=1e-06, elementwise_affine=True)\n",
              "        (mlp): MLPBlock(\n",
              "          (0): Linear(in_features=768, out_features=3072, bias=True)\n",
              "          (1): GELU(approximate=none)\n",
              "          (2): Dropout(p=0.0, inplace=False)\n",
              "          (3): Linear(in_features=3072, out_features=768, bias=True)\n",
              "          (4): Dropout(p=0.0, inplace=False)\n",
              "        )\n",
              "      )\n",
              "      (encoder_layer_9): EncoderBlock(\n",
              "        (ln_1): LayerNorm((768,), eps=1e-06, elementwise_affine=True)\n",
              "        (self_attention): MultiheadAttention(\n",
              "          (out_proj): NonDynamicallyQuantizableLinear(in_features=768, out_features=768, bias=True)\n",
              "        )\n",
              "        (dropout): Dropout(p=0.0, inplace=False)\n",
              "        (ln_2): LayerNorm((768,), eps=1e-06, elementwise_affine=True)\n",
              "        (mlp): MLPBlock(\n",
              "          (0): Linear(in_features=768, out_features=3072, bias=True)\n",
              "          (1): GELU(approximate=none)\n",
              "          (2): Dropout(p=0.0, inplace=False)\n",
              "          (3): Linear(in_features=3072, out_features=768, bias=True)\n",
              "          (4): Dropout(p=0.0, inplace=False)\n",
              "        )\n",
              "      )\n",
              "      (encoder_layer_10): EncoderBlock(\n",
              "        (ln_1): LayerNorm((768,), eps=1e-06, elementwise_affine=True)\n",
              "        (self_attention): MultiheadAttention(\n",
              "          (out_proj): NonDynamicallyQuantizableLinear(in_features=768, out_features=768, bias=True)\n",
              "        )\n",
              "        (dropout): Dropout(p=0.0, inplace=False)\n",
              "        (ln_2): LayerNorm((768,), eps=1e-06, elementwise_affine=True)\n",
              "        (mlp): MLPBlock(\n",
              "          (0): Linear(in_features=768, out_features=3072, bias=True)\n",
              "          (1): GELU(approximate=none)\n",
              "          (2): Dropout(p=0.0, inplace=False)\n",
              "          (3): Linear(in_features=3072, out_features=768, bias=True)\n",
              "          (4): Dropout(p=0.0, inplace=False)\n",
              "        )\n",
              "      )\n",
              "      (encoder_layer_11): EncoderBlock(\n",
              "        (ln_1): LayerNorm((768,), eps=1e-06, elementwise_affine=True)\n",
              "        (self_attention): MultiheadAttention(\n",
              "          (out_proj): NonDynamicallyQuantizableLinear(in_features=768, out_features=768, bias=True)\n",
              "        )\n",
              "        (dropout): Dropout(p=0.0, inplace=False)\n",
              "        (ln_2): LayerNorm((768,), eps=1e-06, elementwise_affine=True)\n",
              "        (mlp): MLPBlock(\n",
              "          (0): Linear(in_features=768, out_features=3072, bias=True)\n",
              "          (1): GELU(approximate=none)\n",
              "          (2): Dropout(p=0.0, inplace=False)\n",
              "          (3): Linear(in_features=3072, out_features=768, bias=True)\n",
              "          (4): Dropout(p=0.0, inplace=False)\n",
              "        )\n",
              "      )\n",
              "    )\n",
              "    (ln): LayerNorm((768,), eps=1e-06, elementwise_affine=True)\n",
              "  )\n",
              "  (heads): Linear(in_features=768, out_features=3, bias=True)\n",
              ")"
            ]
          },
          "metadata": {},
          "execution_count": 123
        }
      ]
    },
    {
      "cell_type": "code",
      "source": [
        "pretrained_vit_transforms = pretrained_weights.transforms()\n",
        "print(pretrained_vit_transforms)"
      ],
      "metadata": {
        "colab": {
          "base_uri": "https://localhost:8080/"
        },
        "id": "PB_AifcSXYAk",
        "outputId": "015915e1-f915-42a0-d317-d9258cc20c03"
      },
      "execution_count": null,
      "outputs": [
        {
          "output_type": "stream",
          "name": "stdout",
          "text": [
            "ImageClassification(\n",
            "    crop_size=[224]\n",
            "    resize_size=[256]\n",
            "    mean=[0.485, 0.456, 0.406]\n",
            "    std=[0.229, 0.224, 0.225]\n",
            "    interpolation=InterpolationMode.BILINEAR\n",
            ")\n"
          ]
        }
      ]
    },
    {
      "cell_type": "code",
      "source": [
        "train_dataloader_pretrained, test_dataloader_pretrained, class_names = data_setup.create_dataloaders(train_dir=train_dir,\n",
        "                                                                                                     test_dir=test_dir,\n",
        "                                                                                                     transform=pretrained_vit_transforms,\n",
        "                                                                                                     batch_size=32) # Could increase if we had more samples, such as here: https://arxiv.org/abs/2205.01580"
      ],
      "metadata": {
        "id": "KQ-AJ-35Xlg-"
      },
      "execution_count": null,
      "outputs": []
    },
    {
      "cell_type": "code",
      "source": [
        "optimizer=torch.optim.Adam(params=pretrained_vit.parameters(), lr=1e-3)\n",
        "\n",
        "pretrained_vit_results = engine.train(model=pretrained_vit,\n",
        "                                      train_dataloader=train_dataloader_pretrained,\n",
        "                                      test_dataloader=test_dataloader_pretrained,\n",
        "                                      optimizer=optimizer,\n",
        "                                      loss_fn=loss_fn,\n",
        "                                      epochs=10,\n",
        "                                      device=device)"
      ],
      "metadata": {
        "colab": {
          "base_uri": "https://localhost:8080/",
          "height": 219,
          "referenced_widgets": [
            "039a335a17834dddabb3014df7896813",
            "10d8b794cc1544238b47c281b03943ae",
            "001e90b0e08a4957971d2b8048138556",
            "9957bfd76bb945d7b527fee2f2e68011",
            "c543946c048443ea8aca7be80d0405ed",
            "bf9bc1b09069494db8a80537dc2d1ed3",
            "ed0c7566155645c28a9342302017f67e",
            "3000512c48104e24abc0ff10405c3543",
            "71a72ae787e14b7b91764cae369b0aba",
            "b908d15649db45d2b276e303eb004c9d",
            "5170adc598fe410eb4d77542455f3ef7"
          ]
        },
        "id": "Zb76IHt1YAx0",
        "outputId": "f7ba9fab-6883-4526-a1ae-6485c877cfc3"
      },
      "execution_count": null,
      "outputs": [
        {
          "output_type": "display_data",
          "data": {
            "text/plain": [
              "  0%|          | 0/10 [00:00<?, ?it/s]"
            ],
            "application/vnd.jupyter.widget-view+json": {
              "version_major": 2,
              "version_minor": 0,
              "model_id": "039a335a17834dddabb3014df7896813"
            }
          },
          "metadata": {}
        },
        {
          "output_type": "stream",
          "name": "stdout",
          "text": [
            "Epoch: 1 | train_loss: 0.6988 | train_acc: 0.7812 | test_loss: 0.4629 | test_acc: 0.8769\n",
            "Epoch: 2 | train_loss: 0.2883 | train_acc: 0.9453 | test_loss: 0.2781 | test_acc: 0.9280\n",
            "Epoch: 3 | train_loss: 0.2462 | train_acc: 0.9609 | test_loss: 0.2482 | test_acc: 0.9384\n",
            "Epoch: 4 | train_loss: 0.1592 | train_acc: 0.9609 | test_loss: 0.2870 | test_acc: 0.8987\n",
            "Epoch: 5 | train_loss: 0.1638 | train_acc: 0.9688 | test_loss: 0.2615 | test_acc: 0.8987\n",
            "Epoch: 6 | train_loss: 0.1128 | train_acc: 0.9766 | test_loss: 0.2004 | test_acc: 0.9384\n",
            "Epoch: 7 | train_loss: 0.1032 | train_acc: 0.9805 | test_loss: 0.1825 | test_acc: 0.9384\n",
            "Epoch: 8 | train_loss: 0.0900 | train_acc: 0.9805 | test_loss: 0.1894 | test_acc: 0.9384\n",
            "Epoch: 9 | train_loss: 0.0771 | train_acc: 0.9844 | test_loss: 0.1981 | test_acc: 0.9384\n",
            "Epoch: 10 | train_loss: 0.0873 | train_acc: 0.9883 | test_loss: 0.1988 | test_acc: 0.9384\n"
          ]
        }
      ]
    },
    {
      "cell_type": "code",
      "source": [
        "from helper_functions import plot_loss_curves\n",
        "\n",
        "plot_loss_curves(pretrained_vit_results)"
      ],
      "metadata": {
        "colab": {
          "base_uri": "https://localhost:8080/",
          "height": 458
        },
        "id": "pRYW8hCPYOSO",
        "outputId": "a3f3fc1c-667f-43ae-b1a2-6b05bb590cec"
      },
      "execution_count": null,
      "outputs": [
        {
          "output_type": "display_data",
          "data": {
            "text/plain": [
              "<Figure size 1080x504 with 2 Axes>"
            ],
            "image/png": "[encoded data removed]"
          },
          "metadata": {
            "needs_background": "light"
          }
        }
      ]
    },
    {
      "cell_type": "code",
      "source": [
        "from going_modular.going_modular import utils\n",
        "\n",
        "utils.save_model(model=pretrained_vit,\n",
        "                 target_dir=\"models\",\n",
        "                 model_name=\"pretrained_vit_pizza_steak_sushi.pth\")"
      ],
      "metadata": {
        "colab": {
          "base_uri": "https://localhost:8080/"
        },
        "id": "-aGGTueVYX64",
        "outputId": "3d23fd94-9081-463b-87ca-c544a1b90f03"
      },
      "execution_count": null,
      "outputs": [
        {
          "output_type": "stream",
          "name": "stdout",
          "text": [
            "[INFO] Saving model to: models/pretrained_vit_pizza_steak_sushi.pth\n"
          ]
        }
      ]
    },
    {
      "cell_type": "code",
      "source": [
        "import requests\n",
        "from pathlib import Path\n",
        "\n",
        "# Setup custom image path\n",
        "custom_image_path = Path(\"/content/DALLE-comida1.png\")\n",
        "\n",
        "# Download the image if it doesn't already exist\n",
        "if not custom_image_path.is_file():\n",
        "    with open(custom_image_path, \"wb\") as f:\n",
        "        # When downloading from GitHub, need to use the \"raw\" file link\n",
        "        request = requests.get(\"https://github.com/DanteNoguez/intro-ai/raw/main/img/DALLE-comida1.png\")\n",
        "        print(f\"Downloading {custom_image_path}...\")\n",
        "        f.write(request.content)\n",
        "else:\n",
        "    print(f\"{custom_image_path} already exists, skipping download.\")"
      ],
      "metadata": {
        "colab": {
          "base_uri": "https://localhost:8080/"
        },
        "id": "tsgf9zgca-ND",
        "outputId": "826e191b-0cbc-4589-c0c8-35f2c4231e30"
      },
      "execution_count": null,
      "outputs": [
        {
          "output_type": "stream",
          "name": "stdout",
          "text": [
            "Downloading /content/DALLE-comida1.png...\n"
          ]
        }
      ]
    },
    {
      "cell_type": "code",
      "source": [
        "from going_modular.going_modular.predictions import pred_and_plot_image\n",
        "\n",
        "pred_and_plot_image(model=pretrained_vit,\n",
        "                    image_path=custom_image_path,\n",
        "                    class_names=class_names)"
      ],
      "metadata": {
        "colab": {
          "base_uri": "https://localhost:8080/",
          "height": 264
        },
        "id": "6O4-LWwlbcwb",
        "outputId": "138afe4b-11ef-4f17-9cc4-9fe0aa821149"
      },
      "execution_count": null,
      "outputs": [
        {
          "output_type": "display_data",
          "data": {
            "text/plain": [
              "<Figure size 432x288 with 1 Axes>"
            ],
            "image/png": "[encoded data removed]"
          },
          "metadata": {
            "needs_background": "light"
          }
        }
      ]
    },
    {
      "cell_type": "code",
      "source": [],
      "metadata": {
        "id": "1a2t4_PYblPv"
      },
      "execution_count": null,
      "outputs": []
    }
  ]
}